{
  "nbformat": 4,
  "nbformat_minor": 0,
  "metadata": {
    "colab": {
      "name": "Mod2 - Análise Ações Banco Bradesco BBDC4.ipynb",
      "provenance": [],
      "toc_visible": true,
      "authorship_tag": "ABX9TyNfzDSzKrGkTf98pjhmzD4+",
      "include_colab_link": true
    },
    "kernelspec": {
      "name": "python3",
      "display_name": "Python 3"
    }
  },
  "cells": [
    {
      "cell_type": "markdown",
      "metadata": {
        "id": "view-in-github",
        "colab_type": "text"
      },
      "source": [
        "<a href=\"https://colab.research.google.com/github/gorselli14/Portifolio_Projetos/blob/master/Mod2_An%C3%A1lise_A%C3%A7%C3%B5es_Banco_Bradesco_BBDC4.ipynb\" target=\"_parent\"><img src=\"https://colab.research.google.com/assets/colab-badge.svg\" alt=\"Open In Colab\"/></a>"
      ]
    },
    {
      "cell_type": "markdown",
      "metadata": {
        "id": "EEf0-0pDqmyJ",
        "colab_type": "text"
      },
      "source": [
        "#Analisando as ações do Banco Bradesco BBDC4 com Pandas\n"
      ]
    },
    {
      "cell_type": "code",
      "metadata": {
        "id": "9c9Oj_HRwP2p",
        "colab_type": "code",
        "colab": {}
      },
      "source": [
        "#importandp Pandas\n",
        "import pandas as pd\n",
        "import matplotlib.pyplot as plt\n"
      ],
      "execution_count": 1,
      "outputs": []
    },
    {
      "cell_type": "markdown",
      "metadata": {
        "id": "EjK4uMHyFdHz",
        "colab_type": "text"
      },
      "source": [
        "##Importanção dos dados e análise do dataset"
      ]
    },
    {
      "cell_type": "markdown",
      "metadata": {
        "id": "E8KMgvhCFkya",
        "colab_type": "text"
      },
      "source": [
        "Os dados que serão analisados abaixo, foram obtidos do site do [Yahoo Finance](https://finance.yahoo.com/quote/BBDC4.SA/history?period1=1199232000&period2=1593820800&interval=1d&filter=history&frequency=1d), considerando o intervalo entre Janeiro de 2008 e Julho de 2020.\n"
      ]
    },
    {
      "cell_type": "markdown",
      "metadata": {
        "id": "t7VuRq9a-Spr",
        "colab_type": "text"
      },
      "source": [
        "Os dados form exportados para um arquivos CSV que foi armazenado em um repositório público do meu perfil no **GitHub**\n",
        "\n",
        "https://github.com/gorselli14/Dados/blob/master/BBDC4.SA.csv"
      ]
    },
    {
      "cell_type": "code",
      "metadata": {
        "id": "2Wb2CnnxyPti",
        "colab_type": "code",
        "colab": {
          "base_uri": "https://localhost:8080/",
          "height": 255
        },
        "outputId": "10bdb9ee-bb5a-445d-a23f-09c2916a42e4"
      },
      "source": [
        "#Importando dataframe\n",
        "df = pd.read_csv('https://raw.githubusercontent.com/gorselli14/Dados/master/BBDC4.SA.csv')\n",
        "print(df)"
      ],
      "execution_count": 2,
      "outputs": [
        {
          "output_type": "stream",
          "text": [
            "            Date       Open       High  ...      Close  Adj Close      Volume\n",
            "0     2008-01-02  23.535601  23.635300  ...  22.030800  12.502825         0.0\n",
            "1     2008-01-03  22.114000  22.317699  ...  21.577700  12.255054         0.0\n",
            "2     2008-01-04  21.781401  21.968500  ...  21.324200  12.111085   5694095.0\n",
            "3     2008-01-07  21.428101  21.993401  ...  21.719101  12.335369         0.0\n",
            "4     2008-01-08  22.114000  22.525499  ...  22.051600  12.524208         0.0\n",
            "...          ...        ...        ...  ...        ...        ...         ...\n",
            "3098  2020-06-29  20.889999  21.410000  ...  21.410000  21.390802  49001400.0\n",
            "3099  2020-06-30  21.219999  21.290001  ...  20.700001  20.681438  44894900.0\n",
            "3100  2020-07-01  20.820000  21.360001  ...  21.160000  21.141026  33581400.0\n",
            "3101  2020-07-02  21.620001  21.879999  ...  21.209999  21.209999  37641800.0\n",
            "3102  2020-07-03  21.180000  21.389999  ...  21.350000  21.350000  12407300.0\n",
            "\n",
            "[3103 rows x 7 columns]\n"
          ],
          "name": "stdout"
        }
      ]
    },
    {
      "cell_type": "code",
      "metadata": {
        "id": "Dyy1UYRlznsp",
        "colab_type": "code",
        "colab": {
          "base_uri": "https://localhost:8080/",
          "height": 68
        },
        "outputId": "56df64e1-eaf6-4ada-aaca-94fe39fc7aee"
      },
      "source": [
        "#visualizar a dimensão do Dataframe\n",
        "print(df.shape)\n",
        "print(f'Quantidade de linhas {df.shape[0]}')\n",
        "print(f'Quantidade de colunas {df.shape[1]}')"
      ],
      "execution_count": 3,
      "outputs": [
        {
          "output_type": "stream",
          "text": [
            "(3103, 7)\n",
            "Quantidade de linhas 3103\n",
            "Quantidade de colunas 7\n"
          ],
          "name": "stdout"
        }
      ]
    },
    {
      "cell_type": "code",
      "metadata": {
        "id": "iXPsX0ln00eU",
        "colab_type": "code",
        "colab": {
          "base_uri": "https://localhost:8080/",
          "height": 255
        },
        "outputId": "8f547879-1339-4315-abdd-0f687c267829"
      },
      "source": [
        "#Ulitizando df.info() é fácil visualizar se existem informações em branco em cada coluna, além do tipo de dado\n",
        "df.info()"
      ],
      "execution_count": 4,
      "outputs": [
        {
          "output_type": "stream",
          "text": [
            "<class 'pandas.core.frame.DataFrame'>\n",
            "RangeIndex: 3103 entries, 0 to 3102\n",
            "Data columns (total 7 columns):\n",
            " #   Column     Non-Null Count  Dtype  \n",
            "---  ------     --------------  -----  \n",
            " 0   Date       3103 non-null   object \n",
            " 1   Open       3036 non-null   float64\n",
            " 2   High       3036 non-null   float64\n",
            " 3   Low        3036 non-null   float64\n",
            " 4   Close      3036 non-null   float64\n",
            " 5   Adj Close  3036 non-null   float64\n",
            " 6   Volume     3036 non-null   float64\n",
            "dtypes: float64(6), object(1)\n",
            "memory usage: 169.8+ KB\n"
          ],
          "name": "stdout"
        }
      ]
    },
    {
      "cell_type": "markdown",
      "metadata": {
        "id": "bOJzNOvBK42w",
        "colab_type": "text"
      },
      "source": [
        "##Convertendo a coluna Date\n",
        "Conforme mostrado no método info(), a coluna Date originalmente foi importada com o formato `object`, dessa forma não é possível utilizar essa informação adequadamente.\n",
        "Convertendo essa coluna para o formato de data, será possivel realizar agrupamentos por períodos distintos."
      ]
    },
    {
      "cell_type": "code",
      "metadata": {
        "id": "9i7zTIC73V6o",
        "colab_type": "code",
        "colab": {}
      },
      "source": [
        "#convertendo para o formato de data\n",
        "#informar em qual coluna a conversão será gravada, informar qual coluna será convertida e informar o formato como a data está descrita na coluna original\n",
        "df.Date = pd.to_datetime(df['Date'],format='%Y-%m-%d')"
      ],
      "execution_count": 5,
      "outputs": []
    },
    {
      "cell_type": "code",
      "metadata": {
        "id": "kYYrEM1a4LdZ",
        "colab_type": "code",
        "colab": {
          "base_uri": "https://localhost:8080/",
          "height": 255
        },
        "outputId": "7a78c330-fac9-49a9-fd39-eb02faf7b828"
      },
      "source": [
        "#agora aparece no formato de data (Dtype = datetime64[ns])\n",
        "df.info()"
      ],
      "execution_count": 6,
      "outputs": [
        {
          "output_type": "stream",
          "text": [
            "<class 'pandas.core.frame.DataFrame'>\n",
            "RangeIndex: 3103 entries, 0 to 3102\n",
            "Data columns (total 7 columns):\n",
            " #   Column     Non-Null Count  Dtype         \n",
            "---  ------     --------------  -----         \n",
            " 0   Date       3103 non-null   datetime64[ns]\n",
            " 1   Open       3036 non-null   float64       \n",
            " 2   High       3036 non-null   float64       \n",
            " 3   Low        3036 non-null   float64       \n",
            " 4   Close      3036 non-null   float64       \n",
            " 5   Adj Close  3036 non-null   float64       \n",
            " 6   Volume     3036 non-null   float64       \n",
            "dtypes: datetime64[ns](1), float64(6)\n",
            "memory usage: 169.8 KB\n"
          ],
          "name": "stdout"
        }
      ]
    },
    {
      "cell_type": "markdown",
      "metadata": {
        "id": "9dTgTNL3_zij",
        "colab_type": "text"
      },
      "source": [
        "##Analisando os dados das ações do Banco Bradesco\n"
      ]
    },
    {
      "cell_type": "markdown",
      "metadata": {
        "id": "ftHDFS1VL6pM",
        "colab_type": "text"
      },
      "source": [
        "Apare seguir com as análises, vou criar um novo dataframe, somente com as colunas Date, Open e Close.\n",
        "Vou utilizar essas informações para calcular a variação % das ações em cada dia.\n",
        "\n",
        "No *DataFrame* `df_clean` teremos a seguinte informação:\n",
        "\n",
        "\n",
        "*   **Date**: data da negocição das ações\n",
        "*   **Open**: valor das ações na abertura do mercado\n",
        "*   **Close**: valor das ações no fechamento do mercado\n",
        "*   **Variation %**: percentual de variação da ação no dia\n",
        "\n"
      ]
    },
    {
      "cell_type": "code",
      "metadata": {
        "id": "wMdT4lsT_zCk",
        "colab_type": "code",
        "colab": {}
      },
      "source": [
        "#criando o dataframe df_clean somente com as colunas que vou utilizar\n",
        "df_clean = pd.DataFrame(df, columns=['Date','Open','Close'])\n",
        "#incluindo uma coluna chamada Variation % que será calculada usando a variação do valor de abertura e fechamento da ação\n",
        "df_clean['Variation %'] = ((df_clean['Close']-df_clean['Open'])/df_clean['Open'])*100"
      ],
      "execution_count": 7,
      "outputs": []
    },
    {
      "cell_type": "code",
      "metadata": {
        "id": "t4u8VnGZRA_D",
        "colab_type": "code",
        "colab": {
          "base_uri": "https://localhost:8080/",
          "height": 297
        },
        "outputId": "605f2418-09b1-4979-91fb-6644ba3b9567"
      },
      "source": [
        "#Resumo estatístico\n",
        "df_clean.describe()"
      ],
      "execution_count": 8,
      "outputs": [
        {
          "output_type": "execute_result",
          "data": {
            "text/html": [
              "<div>\n",
              "<style scoped>\n",
              "    .dataframe tbody tr th:only-of-type {\n",
              "        vertical-align: middle;\n",
              "    }\n",
              "\n",
              "    .dataframe tbody tr th {\n",
              "        vertical-align: top;\n",
              "    }\n",
              "\n",
              "    .dataframe thead th {\n",
              "        text-align: right;\n",
              "    }\n",
              "</style>\n",
              "<table border=\"1\" class=\"dataframe\">\n",
              "  <thead>\n",
              "    <tr style=\"text-align: right;\">\n",
              "      <th></th>\n",
              "      <th>Open</th>\n",
              "      <th>Close</th>\n",
              "      <th>Variation %</th>\n",
              "    </tr>\n",
              "  </thead>\n",
              "  <tbody>\n",
              "    <tr>\n",
              "      <th>count</th>\n",
              "      <td>3036.000000</td>\n",
              "      <td>3036.000000</td>\n",
              "      <td>3036.000000</td>\n",
              "    </tr>\n",
              "    <tr>\n",
              "      <th>mean</th>\n",
              "      <td>18.987180</td>\n",
              "      <td>18.985268</td>\n",
              "      <td>0.018372</td>\n",
              "    </tr>\n",
              "    <tr>\n",
              "      <th>std</th>\n",
              "      <td>6.885379</td>\n",
              "      <td>6.877187</td>\n",
              "      <td>1.864574</td>\n",
              "    </tr>\n",
              "    <tr>\n",
              "      <th>min</th>\n",
              "      <td>9.687410</td>\n",
              "      <td>9.681720</td>\n",
              "      <td>-10.684574</td>\n",
              "    </tr>\n",
              "    <tr>\n",
              "      <th>25%</th>\n",
              "      <td>13.792075</td>\n",
              "      <td>13.798300</td>\n",
              "      <td>-1.081251</td>\n",
              "    </tr>\n",
              "    <tr>\n",
              "      <th>50%</th>\n",
              "      <td>16.362350</td>\n",
              "      <td>16.382200</td>\n",
              "      <td>0.000000</td>\n",
              "    </tr>\n",
              "    <tr>\n",
              "      <th>75%</th>\n",
              "      <td>21.412501</td>\n",
              "      <td>21.396149</td>\n",
              "      <td>1.082181</td>\n",
              "    </tr>\n",
              "    <tr>\n",
              "      <th>max</th>\n",
              "      <td>39.599998</td>\n",
              "      <td>39.410000</td>\n",
              "      <td>12.084560</td>\n",
              "    </tr>\n",
              "  </tbody>\n",
              "</table>\n",
              "</div>"
            ],
            "text/plain": [
              "              Open        Close  Variation %\n",
              "count  3036.000000  3036.000000  3036.000000\n",
              "mean     18.987180    18.985268     0.018372\n",
              "std       6.885379     6.877187     1.864574\n",
              "min       9.687410     9.681720   -10.684574\n",
              "25%      13.792075    13.798300    -1.081251\n",
              "50%      16.362350    16.382200     0.000000\n",
              "75%      21.412501    21.396149     1.082181\n",
              "max      39.599998    39.410000    12.084560"
            ]
          },
          "metadata": {
            "tags": []
          },
          "execution_count": 8
        }
      ]
    },
    {
      "cell_type": "code",
      "metadata": {
        "id": "ROqsNlZYQEtN",
        "colab_type": "code",
        "colab": {
          "base_uri": "https://localhost:8080/",
          "height": 85
        },
        "outputId": "338b1082-38dc-4031-80ac-60cb251ce29b"
      },
      "source": [
        "print(f'Maior valor da ação desde 2008: R${df_clean[\"Open\"].max():.2f}')\n",
        "print(f'Maior variação: {df_clean[\"Variation %\"].max():.2f}%')\n",
        "print(f'Menor valor da ação desde 2008: R${df_clean[\"Close\"].min():.2f}')\n",
        "print(f'Maior variação Negativa: {df_clean[\"Variation %\"].min():.2f}%')"
      ],
      "execution_count": 13,
      "outputs": [
        {
          "output_type": "stream",
          "text": [
            "Maior valor da ação desde 2008: R$39.60\n",
            "Maior variação: 12.08%\n",
            "Menor valor da ação desde 2008: R$9.68\n",
            "Maior variação Negativa: -10.68%\n"
          ],
          "name": "stdout"
        }
      ]
    },
    {
      "cell_type": "code",
      "metadata": {
        "id": "SWeXIAfX_4Sl",
        "colab_type": "code",
        "colab": {
          "base_uri": "https://localhost:8080/",
          "height": 354
        },
        "outputId": "85291d5a-6e66-47aa-f8f4-468c62146c6c"
      },
      "source": [
        "print('Histograma do valor de fechamento das ações do Bradesco desde 2008')\n",
        "df_clean[\"Close\"].hist(bins=150, figsize=(10,5), color='darkblue', grid=False)"
      ],
      "execution_count": 27,
      "outputs": [
        {
          "output_type": "stream",
          "text": [
            "Histograma do valor de fechamento das ações do Bradesco desde 2008\n"
          ],
          "name": "stdout"
        },
        {
          "output_type": "execute_result",
          "data": {
            "text/plain": [
              "<matplotlib.axes._subplots.AxesSubplot at 0x7f69a92d3080>"
            ]
          },
          "metadata": {
            "tags": []
          },
          "execution_count": 27
        },
        {
          "output_type": "display_data",
          "data": {
            "image/png": "[encoded data removed]",
            "text/plain": [
              "<Figure size 720x360 with 1 Axes>"
            ]
          },
          "metadata": {
            "tags": [],
            "needs_background": "light"
          }
        }
      ]
    },
    {
      "cell_type": "code",
      "metadata": {
        "id": "bFkmXvvLRoef",
        "colab_type": "code",
        "colab": {
          "base_uri": "https://localhost:8080/",
          "height": 354
        },
        "outputId": "059ad028-5981-4ca7-98fd-c1388977299d"
      },
      "source": [
        "print('Histograma do % de variação das ações do Bradesco desde 2008')\n",
        "df_clean['Variation %'].hist(bins=100, figsize=(10,5), color='Blue', grid=False)"
      ],
      "execution_count": 24,
      "outputs": [
        {
          "output_type": "stream",
          "text": [
            "Histograma do % de variação das ações do Bradesco desde 2008\n"
          ],
          "name": "stdout"
        },
        {
          "output_type": "execute_result",
          "data": {
            "text/plain": [
              "<matplotlib.axes._subplots.AxesSubplot at 0x7f69a97e5080>"
            ]
          },
          "metadata": {
            "tags": []
          },
          "execution_count": 24
        },
        {
          "output_type": "display_data",
          "data": {
            "image/png": "[encoded data removed]",
            "text/plain": [
              "<Figure size 720x360 with 1 Axes>"
            ]
          },
          "metadata": {
            "tags": [],
            "needs_background": "light"
          }
        }
      ]
    },
    {
      "cell_type": "code",
      "metadata": {
        "id": "M1Nqagp-8D2L",
        "colab_type": "code",
        "colab": {
          "base_uri": "https://localhost:8080/",
          "height": 337
        },
        "outputId": "70ba6651-f6d3-4257-9cef-400ac02e4679"
      },
      "source": [
        "#BoxPlot\n",
        "df_clean.plot(kind='box', vert=False, figsize=(15,5))"
      ],
      "execution_count": 15,
      "outputs": [
        {
          "output_type": "execute_result",
          "data": {
            "text/plain": [
              "<matplotlib.axes._subplots.AxesSubplot at 0x7f69a9e0e9b0>"
            ]
          },
          "metadata": {
            "tags": []
          },
          "execution_count": 15
        },
        {
          "output_type": "display_data",
          "data": {
            "image/png": "[encoded data removed]",
            "text/plain": [
              "<Figure size 1080x360 with 1 Axes>"
            ]
          },
          "metadata": {
            "tags": [],
            "needs_background": "light"
          }
        }
      ]
    },
    {
      "cell_type": "code",
      "metadata": {
        "id": "NUh0lqFQo3F8",
        "colab_type": "code",
        "colab": {
          "base_uri": "https://localhost:8080/",
          "height": 483
        },
        "outputId": "9914a53b-e24c-454d-9ecd-a5b02f1e4763"
      },
      "source": [
        "#Media dos valores diários da ação em cada ano\n",
        "df_clean.groupby(df_clean[\"Date\"].dt.year).mean()"
      ],
      "execution_count": 16,
      "outputs": [
        {
          "output_type": "execute_result",
          "data": {
            "text/html": [
              "<div>\n",
              "<style scoped>\n",
              "    .dataframe tbody tr th:only-of-type {\n",
              "        vertical-align: middle;\n",
              "    }\n",
              "\n",
              "    .dataframe tbody tr th {\n",
              "        vertical-align: top;\n",
              "    }\n",
              "\n",
              "    .dataframe thead th {\n",
              "        text-align: right;\n",
              "    }\n",
              "</style>\n",
              "<table border=\"1\" class=\"dataframe\">\n",
              "  <thead>\n",
              "    <tr style=\"text-align: right;\">\n",
              "      <th></th>\n",
              "      <th>Open</th>\n",
              "      <th>Close</th>\n",
              "      <th>Variation %</th>\n",
              "    </tr>\n",
              "    <tr>\n",
              "      <th>Date</th>\n",
              "      <th></th>\n",
              "      <th></th>\n",
              "      <th></th>\n",
              "    </tr>\n",
              "  </thead>\n",
              "  <tbody>\n",
              "    <tr>\n",
              "      <th>2008</th>\n",
              "      <td>19.502050</td>\n",
              "      <td>19.486638</td>\n",
              "      <td>-0.008481</td>\n",
              "    </tr>\n",
              "    <tr>\n",
              "      <th>2009</th>\n",
              "      <td>14.362987</td>\n",
              "      <td>14.384327</td>\n",
              "      <td>0.152086</td>\n",
              "    </tr>\n",
              "    <tr>\n",
              "      <th>2010</th>\n",
              "      <td>16.086970</td>\n",
              "      <td>16.088749</td>\n",
              "      <td>0.008523</td>\n",
              "    </tr>\n",
              "    <tr>\n",
              "      <th>2011</th>\n",
              "      <td>12.985009</td>\n",
              "      <td>12.975702</td>\n",
              "      <td>-0.056044</td>\n",
              "    </tr>\n",
              "    <tr>\n",
              "      <th>2012</th>\n",
              "      <td>13.778741</td>\n",
              "      <td>13.798673</td>\n",
              "      <td>0.151344</td>\n",
              "    </tr>\n",
              "    <tr>\n",
              "      <th>2013</th>\n",
              "      <td>14.795120</td>\n",
              "      <td>14.792761</td>\n",
              "      <td>-0.009834</td>\n",
              "    </tr>\n",
              "    <tr>\n",
              "      <th>2014</th>\n",
              "      <td>15.835917</td>\n",
              "      <td>15.854857</td>\n",
              "      <td>0.137077</td>\n",
              "    </tr>\n",
              "    <tr>\n",
              "      <th>2015</th>\n",
              "      <td>15.174943</td>\n",
              "      <td>15.159930</td>\n",
              "      <td>-0.103607</td>\n",
              "    </tr>\n",
              "    <tr>\n",
              "      <th>2016</th>\n",
              "      <td>16.147901</td>\n",
              "      <td>16.165947</td>\n",
              "      <td>0.136957</td>\n",
              "    </tr>\n",
              "    <tr>\n",
              "      <th>2017</th>\n",
              "      <td>22.699627</td>\n",
              "      <td>22.710610</td>\n",
              "      <td>0.072795</td>\n",
              "    </tr>\n",
              "    <tr>\n",
              "      <th>2018</th>\n",
              "      <td>27.121924</td>\n",
              "      <td>27.123632</td>\n",
              "      <td>0.019346</td>\n",
              "    </tr>\n",
              "    <tr>\n",
              "      <th>2019</th>\n",
              "      <td>35.305441</td>\n",
              "      <td>35.300461</td>\n",
              "      <td>-0.003131</td>\n",
              "    </tr>\n",
              "    <tr>\n",
              "      <th>2020</th>\n",
              "      <td>25.149230</td>\n",
              "      <td>25.010588</td>\n",
              "      <td>-0.535630</td>\n",
              "    </tr>\n",
              "  </tbody>\n",
              "</table>\n",
              "</div>"
            ],
            "text/plain": [
              "           Open      Close  Variation %\n",
              "Date                                   \n",
              "2008  19.502050  19.486638    -0.008481\n",
              "2009  14.362987  14.384327     0.152086\n",
              "2010  16.086970  16.088749     0.008523\n",
              "2011  12.985009  12.975702    -0.056044\n",
              "2012  13.778741  13.798673     0.151344\n",
              "2013  14.795120  14.792761    -0.009834\n",
              "2014  15.835917  15.854857     0.137077\n",
              "2015  15.174943  15.159930    -0.103607\n",
              "2016  16.147901  16.165947     0.136957\n",
              "2017  22.699627  22.710610     0.072795\n",
              "2018  27.121924  27.123632     0.019346\n",
              "2019  35.305441  35.300461    -0.003131\n",
              "2020  25.149230  25.010588    -0.535630"
            ]
          },
          "metadata": {
            "tags": []
          },
          "execution_count": 16
        }
      ]
    },
    {
      "cell_type": "code",
      "metadata": {
        "id": "V0pVqlaVs-h0",
        "colab_type": "code",
        "colab": {
          "base_uri": "https://localhost:8080/",
          "height": 119
        },
        "outputId": "3a667890-c5fe-44b4-bc07-7d52251aa718"
      },
      "source": [
        "print('Data da MAIOR cotação da ação do Bradesco')\n",
        "df_clean.loc[df_clean[\"Open\"].idxmax()]"
      ],
      "execution_count": 23,
      "outputs": [
        {
          "output_type": "stream",
          "text": [
            "Data da MAIOR cotação da ação do Bradesco\n"
          ],
          "name": "stdout"
        },
        {
          "output_type": "execute_result",
          "data": {
            "text/plain": [
              "Date           2019-07-10 00:00:00\n",
              "Open                          39.6\n",
              "Close                        39.05\n",
              "Variation %               -1.38889\n",
              "Name: 2857, dtype: object"
            ]
          },
          "metadata": {
            "tags": []
          },
          "execution_count": 23
        }
      ]
    },
    {
      "cell_type": "code",
      "metadata": {
        "id": "Us_7v3MNvLHU",
        "colab_type": "code",
        "colab": {
          "base_uri": "https://localhost:8080/",
          "height": 119
        },
        "outputId": "cff3b583-2c16-4483-de1c-9de67a9a97e6"
      },
      "source": [
        "print('Data da MENOR cotação da ação do Bradesco')\n",
        "df_clean.loc[df_clean[\"Close\"].idxmin()]"
      ],
      "execution_count": 22,
      "outputs": [
        {
          "output_type": "stream",
          "text": [
            "Data da MENOR cotação da ação do Bradesco\n"
          ],
          "name": "stdout"
        },
        {
          "output_type": "execute_result",
          "data": {
            "text/plain": [
              "Date           2016-01-21 00:00:00\n",
              "Open                        9.7614\n",
              "Close                      9.68172\n",
              "Variation %              -0.816276\n",
              "Name: 1993, dtype: object"
            ]
          },
          "metadata": {
            "tags": []
          },
          "execution_count": 22
        }
      ]
    },
    {
      "cell_type": "code",
      "metadata": {
        "id": "2VE1Ui_KyHL9",
        "colab_type": "code",
        "colab": {
          "base_uri": "https://localhost:8080/",
          "height": 34
        },
        "outputId": "c9ed7c4c-180a-4194-e398-cd460def2962"
      },
      "source": [
        "varia = ((df_clean['Open'].max()-df_clean['Close'].min())/df_clean['Open'].max())*100\n",
        "print (f'Perda de {varia:.2f}% do valor da ação, considerando o maior e o menor valor.')"
      ],
      "execution_count": 19,
      "outputs": [
        {
          "output_type": "stream",
          "text": [
            "Perda de 75.55% do valor da ação, considerando o maior e o menor valor.\n"
          ],
          "name": "stdout"
        }
      ]
    },
    {
      "cell_type": "code",
      "metadata": {
        "id": "KKlnqoMvzrVr",
        "colab_type": "code",
        "colab": {
          "base_uri": "https://localhost:8080/",
          "height": 51
        },
        "outputId": "a53619a6-a85f-45bb-afd5-a2f5c51d9006"
      },
      "source": [
        "print(f'Primeiro valor da ação em 2008: R${df_clean.iloc[0,1]:.2f}')\n",
        "print(f'Valor atual da ação: R${df_clean.iloc[-1,2]}')"
      ],
      "execution_count": 21,
      "outputs": [
        {
          "output_type": "stream",
          "text": [
            "Primeiro valor da ação em 2008: R$23.54\n",
            "Valor atual da ação: R$21.35\n"
          ],
          "name": "stdout"
        }
      ]
    }
  ]
}