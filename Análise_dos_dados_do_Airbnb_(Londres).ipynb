{
  "nbformat": 4,
  "nbformat_minor": 0,
  "metadata": {
    "colab": {
      "name": "Análise dos dados do Airbnb (Londres).ipynb",
      "provenance": [],
      "collapsed_sections": [],
      "toc_visible": true,
      "authorship_tag": "ABX9TyOtHpDrXBkkGMksq1l3dflT",
      "include_colab_link": true
    },
    "kernelspec": {
      "name": "python3",
      "display_name": "Python 3"
    }
  },
  "cells": [
    {
      "cell_type": "markdown",
      "metadata": {
        "id": "view-in-github",
        "colab_type": "text"
      },
      "source": [
        "<a href=\"https://colab.research.google.com/github/gorselli14/Portifolio_Projetos/blob/master/An%C3%A1lise_dos_dados_do_Airbnb_(Londres).ipynb\" target=\"_parent\"><img src=\"https://colab.research.google.com/assets/colab-badge.svg\" alt=\"Open In Colab\"/></a>"
      ]
    },
    {
      "cell_type": "markdown",
      "metadata": {
        "id": "GqXzmghsv4Ym",
        "colab_type": "text"
      },
      "source": [
        "### **Curso de Data Science**\n",
        "by [Gabriel Orselli](https://www.linkedin.com/in/gabriel-veras-orselli-5a005824)\n",
        "\n",
        "---\n",
        "#Analise dos dados do Airbnb - Londres\n",
        "O [Airbnb](https://www.airbnb.com) é considera a *maior empresa hoteleira da atualizade*, mesmo sem possuir um único hotel!\n",
        "\n",
        "A plataforma surgiu da ideia de conectar pessoas que querem viajar , com pessoas que querem alugar imóveis. O Airbnb então criou uma plataforma inovadora que traz a praticidade para fazer isso acontecer.\n",
        "\n",
        "No final de 2018, o Airbnb já havia **hospedado mais de 300 milhões** de pessoas por todo o mundo. Se tornando uma pedra no sapato das redes hoteleiras.\n",
        "\n",
        "Uma das iniciativas do Airbnb é disponibilizar dados, através do portal [Inside Airbnb](http://insideairbnb.com/get-the-data.html), para contribuir com projetos de *Data Science*.\n"
      ]
    },
    {
      "cell_type": "markdown",
      "metadata": {
        "id": "sbFAAimq82Ou",
        "colab_type": "text"
      },
      "source": [
        "## Obtenção dos dados para análise\n",
        "\n",
        "Todos os dados usados nesse projeto foram obtidos a partir do portar [Inside Airbnb](http://insideairbnb.com/get-the-data.html).\n",
        "\n",
        "Para essa análise utilizarei o seguinte arquivo:\n",
        "* `listing.csv` - *Summary information and metrics for listings in London (good for visualisations).*"
      ]
    },
    {
      "cell_type": "code",
      "metadata": {
        "id": "FryZ41Iju22E",
        "colab_type": "code",
        "colab": {}
      },
      "source": [
        "#importação dos pacotes\n",
        "import pandas as pd\n",
        "import matplotlib.pyplot as plt\n",
        "import seaborn as sns\n",
        "\n",
        "%matplotlib inline "
      ],
      "execution_count": 0,
      "outputs": []
    },
    {
      "cell_type": "code",
      "metadata": {
        "id": "zFRhBVmB-9vp",
        "colab_type": "code",
        "colab": {}
      },
      "source": [
        "# importando arquivo listing.csv para um DataFrame\n",
        "df = pd.read_csv(\"http://data.insideairbnb.com/united-kingdom/england/london/2020-05-10/visualisations/listings.csv\")"
      ],
      "execution_count": 0,
      "outputs": []
    },
    {
      "cell_type": "markdown",
      "metadata": {
        "id": "D7tdGaM4_WF9",
        "colab_type": "text"
      },
      "source": [
        "## Análise dos dados\n",
        "\n"
      ]
    }
  ]
}