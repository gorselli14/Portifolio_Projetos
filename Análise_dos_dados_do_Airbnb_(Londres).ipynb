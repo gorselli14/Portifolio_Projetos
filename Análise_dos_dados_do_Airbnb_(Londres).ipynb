{
  "nbformat": 4,
  "nbformat_minor": 0,
  "metadata": {
    "colab": {
      "name": "Análise dos dados do Airbnb (Londres).ipynb",
      "provenance": [],
      "authorship_tag": "ABX9TyPdWkx2RvW6PCZRjxQa2KGA",
      "include_colab_link": true
    },
    "kernelspec": {
      "name": "python3",
      "display_name": "Python 3"
    }
  },
  "cells": [
    {
      "cell_type": "markdown",
      "metadata": {
        "id": "view-in-github",
        "colab_type": "text"
      },
      "source": [
        "<a href=\"https://colab.research.google.com/github/gorselli14/Portifolio_Projetos/blob/master/An%C3%A1lise_dos_dados_do_Airbnb_(Londres).ipynb\" target=\"_parent\"><img src=\"https://colab.research.google.com/assets/colab-badge.svg\" alt=\"Open In Colab\"/></a>"
      ]
    },
    {
      "cell_type": "code",
      "metadata": {
        "id": "FryZ41Iju22E",
        "colab_type": "code",
        "colab": {}
      },
      "source": [
        ""
      ],
      "execution_count": 0,
      "outputs": []
    }
  ]
}