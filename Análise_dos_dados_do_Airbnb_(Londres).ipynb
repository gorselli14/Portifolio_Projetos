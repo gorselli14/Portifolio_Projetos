{
  "nbformat": 4,
  "nbformat_minor": 0,
  "metadata": {
    "colab": {
      "name": "Análise dos dados do Airbnb (Londres).ipynb",
      "provenance": [],
      "collapsed_sections": [],
      "toc_visible": true,
      "authorship_tag": "ABX9TyOWJQqCZxXmBL5U6LyxSAoJ",
      "include_colab_link": true
    },
    "kernelspec": {
      "name": "python3",
      "display_name": "Python 3"
    }
  },
  "cells": [
    {
      "cell_type": "markdown",
      "metadata": {
        "id": "view-in-github",
        "colab_type": "text"
      },
      "source": [
        "<a href=\"https://colab.research.google.com/github/gorselli14/Portifolio_Projetos/blob/master/An%C3%A1lise_dos_dados_do_Airbnb_(Londres).ipynb\" target=\"_parent\"><img src=\"https://colab.research.google.com/assets/colab-badge.svg\" alt=\"Open In Colab\"/></a>"
      ]
    },
    {
      "cell_type": "markdown",
      "metadata": {
        "id": "GqXzmghsv4Ym",
        "colab_type": "text"
      },
      "source": [
        "### **Exercício do Curso de Data Science**\n",
        "by [Gabriel Orselli](https://www.linkedin.com/in/gabriel-veras-orselli-5a005824)\n",
        "\n",
        "---\n",
        "#Analise dos dados do Airbnb - Londres\n",
        "O [Airbnb](https://www.airbnb.com) é considera a *maior empresa hoteleira da atualizade*, mesmo sem possuir um único hotel!\n",
        "\n",
        "A plataforma surgiu da ideia de conectar pessoas que querem viajar , com pessoas que querem alugar imóveis. O Airbnb então criou uma plataforma inovadora que traz a praticidade para fazer isso acontecer.\n",
        "\n",
        "No final de 2018, o Airbnb já havia **hospedado mais de 300 milhões** de pessoas por todo o mundo. Se tornando uma pedra no sapato das redes hoteleiras.\n",
        "\n",
        "Uma das iniciativas do Airbnb é disponibilizar dados, através do portal [Inside Airbnb](http://insideairbnb.com/get-the-data.html), para contribuir com projetos de *Data Science*.\n"
      ]
    },
    {
      "cell_type": "markdown",
      "metadata": {
        "id": "sbFAAimq82Ou",
        "colab_type": "text"
      },
      "source": [
        "## Obtenção dos dados para análise\n",
        "\n",
        "Todos os dados usados nesse projeto foram obtidos a partir do portar [Inside Airbnb](http://insideairbnb.com/get-the-data.html).\n",
        "\n",
        "Para essa análise utilizarei o seguinte arquivo:\n",
        "* `listing.csv` - *Summary information and metrics for listings in London (good for visualisations).*"
      ]
    },
    {
      "cell_type": "code",
      "metadata": {
        "id": "FryZ41Iju22E",
        "colab_type": "code",
        "colab": {}
      },
      "source": [
        "#importação dos pacotes\n",
        "import pandas as pd\n",
        "import matplotlib.pyplot as plt\n",
        "import seaborn as sns\n",
        "\n",
        "%matplotlib inline "
      ],
      "execution_count": 0,
      "outputs": []
    },
    {
      "cell_type": "code",
      "metadata": {
        "id": "zFRhBVmB-9vp",
        "colab_type": "code",
        "colab": {}
      },
      "source": [
        "# importando arquivo listing.csv para um DataFrame\n",
        "df = pd.read_csv(\"http://data.insideairbnb.com/united-kingdom/england/london/2020-05-10/visualisations/listings.csv\")"
      ],
      "execution_count": 0,
      "outputs": []
    },
    {
      "cell_type": "markdown",
      "metadata": {
        "id": "D7tdGaM4_WF9",
        "colab_type": "text"
      },
      "source": [
        "## Análise dos dados\n",
        "\n",
        "Essa etapa tem o objetivo de fazer uma análise inicial e permitir um entendimento de como os dados estão estruturados."
      ]
    },
    {
      "cell_type": "markdown",
      "metadata": {
        "id": "U080u2SHB5KO",
        "colab_type": "text"
      },
      "source": [
        "**Dicionário das variáveis**\n",
        "\n",
        "* `id` - número de id gerado para identificar o imóvel\n",
        "* `name` - nome da propriedade anunciada\n",
        "* `host_id` - número de id do proprietário (anfitrião) da propriedade\n",
        "* `host_name` - Nome do anfitrião\n",
        "* `neighbourhood_group` - esta coluna não contém nenhum valor válido\n",
        "* `neighbourhood` - nome do bairro\n",
        "* `latitude` - coordenada da latitude da propriedade\n",
        "* `longitude` - coordenada da longitude da propriedade\n",
        "* `room_type` - informa o tipo de quarto que é oferecido\n",
        "* `price` - preço para alugar o imóvel\n",
        "* `minimum_nights` - quantidade mínima de noites para reservar\n",
        "* `number_of_reviews` - número de reviews que a propriedade possui\n",
        "* `last_review` - data do último review\n",
        "* `reviews_per_month` - quantidade de reviews por mês\n",
        "* `calculated_host_listings_count` - quantidade de imóveis do mesmo anfitrião\n",
        "* `availability_365` - número de dias de disponibilidade dentro de 365 dias\n"
      ]
    },
    {
      "cell_type": "code",
      "metadata": {
        "id": "rcDEyK_1C0Gi",
        "colab_type": "code",
        "colab": {
          "base_uri": "https://localhost:8080/",
          "height": 428
        },
        "outputId": "20e8b1bf-a92c-4f1c-d4a5-2f599e47d74b"
      },
      "source": [
        "#mostrar as primeiras 5 entradas\n",
        "df.head()"
      ],
      "execution_count": 6,
      "outputs": [
        {
          "output_type": "execute_result",
          "data": {
            "text/html": [
              "<div>\n",
              "<style scoped>\n",
              "    .dataframe tbody tr th:only-of-type {\n",
              "        vertical-align: middle;\n",
              "    }\n",
              "\n",
              "    .dataframe tbody tr th {\n",
              "        vertical-align: top;\n",
              "    }\n",
              "\n",
              "    .dataframe thead th {\n",
              "        text-align: right;\n",
              "    }\n",
              "</style>\n",
              "<table border=\"1\" class=\"dataframe\">\n",
              "  <thead>\n",
              "    <tr style=\"text-align: right;\">\n",
              "      <th></th>\n",
              "      <th>id</th>\n",
              "      <th>name</th>\n",
              "      <th>host_id</th>\n",
              "      <th>host_name</th>\n",
              "      <th>neighbourhood_group</th>\n",
              "      <th>neighbourhood</th>\n",
              "      <th>latitude</th>\n",
              "      <th>longitude</th>\n",
              "      <th>room_type</th>\n",
              "      <th>price</th>\n",
              "      <th>minimum_nights</th>\n",
              "      <th>number_of_reviews</th>\n",
              "      <th>last_review</th>\n",
              "      <th>reviews_per_month</th>\n",
              "      <th>calculated_host_listings_count</th>\n",
              "      <th>availability_365</th>\n",
              "    </tr>\n",
              "  </thead>\n",
              "  <tbody>\n",
              "    <tr>\n",
              "      <th>0</th>\n",
              "      <td>13913</td>\n",
              "      <td>Holiday London DB Room Let-on going</td>\n",
              "      <td>54730</td>\n",
              "      <td>Alina</td>\n",
              "      <td>NaN</td>\n",
              "      <td>Islington</td>\n",
              "      <td>51.56802</td>\n",
              "      <td>-0.11121</td>\n",
              "      <td>Private room</td>\n",
              "      <td>65</td>\n",
              "      <td>1</td>\n",
              "      <td>21</td>\n",
              "      <td>2020-02-22</td>\n",
              "      <td>0.18</td>\n",
              "      <td>3</td>\n",
              "      <td>361</td>\n",
              "    </tr>\n",
              "    <tr>\n",
              "      <th>1</th>\n",
              "      <td>15400</td>\n",
              "      <td>Bright Chelsea  Apartment. Chelsea!</td>\n",
              "      <td>60302</td>\n",
              "      <td>Philippa</td>\n",
              "      <td>NaN</td>\n",
              "      <td>Kensington and Chelsea</td>\n",
              "      <td>51.48796</td>\n",
              "      <td>-0.16898</td>\n",
              "      <td>Entire home/apt</td>\n",
              "      <td>100</td>\n",
              "      <td>10</td>\n",
              "      <td>89</td>\n",
              "      <td>2020-03-16</td>\n",
              "      <td>0.70</td>\n",
              "      <td>1</td>\n",
              "      <td>256</td>\n",
              "    </tr>\n",
              "    <tr>\n",
              "      <th>2</th>\n",
              "      <td>17402</td>\n",
              "      <td>Superb 3-Bed/2 Bath &amp; Wifi: Trendy W1</td>\n",
              "      <td>67564</td>\n",
              "      <td>Liz</td>\n",
              "      <td>NaN</td>\n",
              "      <td>Westminster</td>\n",
              "      <td>51.52195</td>\n",
              "      <td>-0.14094</td>\n",
              "      <td>Entire home/apt</td>\n",
              "      <td>300</td>\n",
              "      <td>3</td>\n",
              "      <td>42</td>\n",
              "      <td>2019-11-02</td>\n",
              "      <td>0.38</td>\n",
              "      <td>15</td>\n",
              "      <td>330</td>\n",
              "    </tr>\n",
              "    <tr>\n",
              "      <th>3</th>\n",
              "      <td>17506</td>\n",
              "      <td>Boutique Chelsea/Fulham Double bed 5-star ensuite</td>\n",
              "      <td>67915</td>\n",
              "      <td>Charlotte</td>\n",
              "      <td>NaN</td>\n",
              "      <td>Hammersmith and Fulham</td>\n",
              "      <td>51.47935</td>\n",
              "      <td>-0.19743</td>\n",
              "      <td>Private room</td>\n",
              "      <td>150</td>\n",
              "      <td>3</td>\n",
              "      <td>0</td>\n",
              "      <td>NaN</td>\n",
              "      <td>NaN</td>\n",
              "      <td>2</td>\n",
              "      <td>360</td>\n",
              "    </tr>\n",
              "    <tr>\n",
              "      <th>4</th>\n",
              "      <td>25023</td>\n",
              "      <td>All-comforts 2-bed flat near Wimbledon tennis</td>\n",
              "      <td>102813</td>\n",
              "      <td>Amanda</td>\n",
              "      <td>NaN</td>\n",
              "      <td>Wandsworth</td>\n",
              "      <td>51.44687</td>\n",
              "      <td>-0.21874</td>\n",
              "      <td>Entire home/apt</td>\n",
              "      <td>65</td>\n",
              "      <td>21</td>\n",
              "      <td>35</td>\n",
              "      <td>2020-03-30</td>\n",
              "      <td>0.69</td>\n",
              "      <td>1</td>\n",
              "      <td>42</td>\n",
              "    </tr>\n",
              "  </tbody>\n",
              "</table>\n",
              "</div>"
            ],
            "text/plain": [
              "      id  ... availability_365\n",
              "0  13913  ...              361\n",
              "1  15400  ...              256\n",
              "2  17402  ...              330\n",
              "3  17506  ...              360\n",
              "4  25023  ...               42\n",
              "\n",
              "[5 rows x 16 columns]"
            ]
          },
          "metadata": {
            "tags": []
          },
          "execution_count": 6
        }
      ]
    },
    {
      "cell_type": "markdown",
      "metadata": {
        "id": "M4AaRnT6Gf90",
        "colab_type": "text"
      },
      "source": [
        "### **Q1. Quantos atributos e quantas entradas existem nesse conjunto de dados? Quais os tipos de variáveis?**\n",
        "\n",
        "Vou analisar a quantidade de entradas existentes no conjuntos de dados e identificar os tipos das variáveis em cada coluna.\n",
        "\n",
        "O *dataset* utilizado nessa análise é a versão resumida. Existem outros arquivos mais completos dentro do portal do Airbnb"
      ]
    },
    {
      "cell_type": "code",
      "metadata": {
        "id": "rQW9Ac5TIBtz",
        "colab_type": "code",
        "colab": {
          "base_uri": "https://localhost:8080/",
          "height": 357
        },
        "outputId": "3c36cc5c-1feb-45bb-abb6-b87fd9b92e22"
      },
      "source": [
        "# identificar o volume de dados do DataFrame\n",
        "print(f'Qtd de entradas:\\t {df.shape[0]}')\n",
        "print(f'Qtd de variáveis:\\t {df.shape[1]}\\n')\n",
        "\n",
        "#verificar os tipos de variáveis em cada coluna\n",
        "display(df.dtypes)"
      ],
      "execution_count": 17,
      "outputs": [
        {
          "output_type": "stream",
          "text": [
            "Qtd de entradas:\t 85207\n",
            "Qtd de variáveis:\t 16\n",
            "\n"
          ],
          "name": "stdout"
        },
        {
          "output_type": "display_data",
          "data": {
            "text/plain": [
              "id                                  int64\n",
              "name                               object\n",
              "host_id                             int64\n",
              "host_name                          object\n",
              "neighbourhood_group               float64\n",
              "neighbourhood                      object\n",
              "latitude                          float64\n",
              "longitude                         float64\n",
              "room_type                          object\n",
              "price                               int64\n",
              "minimum_nights                      int64\n",
              "number_of_reviews                   int64\n",
              "last_review                        object\n",
              "reviews_per_month                 float64\n",
              "calculated_host_listings_count      int64\n",
              "availability_365                    int64\n",
              "dtype: object"
            ]
          },
          "metadata": {
            "tags": []
          }
        }
      ]
    },
    {
      "cell_type": "markdown",
      "metadata": {
        "id": "z_FBe_CRJmBE",
        "colab_type": "text"
      },
      "source": [
        "### **Q2. Qual o percentual de valores ausentes no *dataset*?**\n",
        "\n",
        "A qualidade de um *dataset* está relacionada à quantidade de valores ausentes e é importante logo no início idenficar se esses valores nulos são significativos dentro do total de entradas.\n",
        "\n",
        "* É possível identificar que a coluna `neighbourhood_group` possui 100% dos valores auzentes.\n",
        "* As variáveis `reviews_per_month` e `last_review` estão com 25% dos valores nulos\n",
        "* As variáveis `host_name` e `host_name` estão com percentual de valores nulos inferior a 0,1%\n"
      ]
    },
    {
      "cell_type": "code",
      "metadata": {
        "id": "MRB3NeAZKm1B",
        "colab_type": "code",
        "colab": {
          "base_uri": "https://localhost:8080/",
          "height": 306
        },
        "outputId": "7b473009-e9cc-4932-b1c7-133b262271fc"
      },
      "source": [
        "# identificar o percentual de valores ausentes e ordená-los em ordem decrescente\n",
        "((df.isnull().sum() / df.shape[0])*100).sort_values(ascending=False)"
      ],
      "execution_count": 36,
      "outputs": [
        {
          "output_type": "execute_result",
          "data": {
            "text/plain": [
              "neighbourhood_group               100.000000\n",
              "reviews_per_month                  25.159905\n",
              "last_review                        25.159905\n",
              "host_name                           0.032861\n",
              "name                                0.028167\n",
              "availability_365                    0.000000\n",
              "calculated_host_listings_count      0.000000\n",
              "number_of_reviews                   0.000000\n",
              "minimum_nights                      0.000000\n",
              "price                               0.000000\n",
              "room_type                           0.000000\n",
              "longitude                           0.000000\n",
              "latitude                            0.000000\n",
              "neighbourhood                       0.000000\n",
              "host_id                             0.000000\n",
              "id                                  0.000000\n",
              "dtype: float64"
            ]
          },
          "metadata": {
            "tags": []
          },
          "execution_count": 36
        }
      ]
    },
    {
      "cell_type": "markdown",
      "metadata": {
        "id": "LOpba9eSSO-O",
        "colab_type": "text"
      },
      "source": [
        "### **Q3. Qual o tipo de distribuição das variáveis?**\n",
        "\n",
        "Para identificar a distribuição das variáveis usarei o modelo de histograma abaixo."
      ]
    },
    {
      "cell_type": "code",
      "metadata": {
        "id": "DUnAJ5nGSkUl",
        "colab_type": "code",
        "colab": {
          "base_uri": "https://localhost:8080/",
          "height": 624
        },
        "outputId": "86e2087e-931a-4e7c-9c49-9ceb1fd545ed"
      },
      "source": [
        "# plotar o histograma de variáveis numéricas sem exclusão dos Outliers\n",
        "print('Histograma sem Outliers')\n",
        "df.hist(bins=20, figsize=(20,10), color='darkblue', grid=False,);"
      ],
      "execution_count": 78,
      "outputs": [
        {
          "output_type": "stream",
          "text": [
            "Histograma sem Outliers\n"
          ],
          "name": "stdout"
        },
        {
          "output_type": "display_data",
          "data": {
            "image/png": "[encoded data removed]",
            "text/plain": [
              "<Figure size 1440x720 with 12 Axes>"
            ]
          },
          "metadata": {
            "tags": [],
            "needs_background": "light"
          }
        }
      ]
    },
    {
      "cell_type": "markdown",
      "metadata": {
        "id": "oXgZJgyFaML1",
        "colab_type": "text"
      },
      "source": [
        "### **Q4. Existem *outliers* presentes nesse *dataset*?***\n",
        "\n",
        "Se analisarmos o histograma gerado para as variáveis `price`, `minimum_nights` e `calculated_host_listings_count`, podemos identificar indícios da presença de *outliers*.\n",
        "\n",
        "Nessas variáveis existem valores que não seguem uma distribuição e distorcem toda a representação gráfica.\n",
        "\n",
        "Existem duas maneiras para confirmar e identificar os *outliers*. São elas:\n",
        "* Resumo estatístico por meio do método `describe()`\n",
        "* Plotar `boxplots` para a variável\n"
      ]
    },
    {
      "cell_type": "code",
      "metadata": {
        "id": "PPxQ69L-c1VX",
        "colab_type": "code",
        "colab": {
          "base_uri": "https://localhost:8080/",
          "height": 297
        },
        "outputId": "341bf67f-58d2-4549-f549-709aacc1045d"
      },
      "source": [
        "# Resumo estatístico das variáveis numéricas\n",
        "df[['price', 'minimum_nights', 'number_of_reviews', 'reviews_per_month','calculated_host_listings_count', 'availability_365']].describe()"
      ],
      "execution_count": 86,
      "outputs": [
        {
          "output_type": "execute_result",
          "data": {
            "text/html": [
              "<div>\n",
              "<style scoped>\n",
              "    .dataframe tbody tr th:only-of-type {\n",
              "        vertical-align: middle;\n",
              "    }\n",
              "\n",
              "    .dataframe tbody tr th {\n",
              "        vertical-align: top;\n",
              "    }\n",
              "\n",
              "    .dataframe thead th {\n",
              "        text-align: right;\n",
              "    }\n",
              "</style>\n",
              "<table border=\"1\" class=\"dataframe\">\n",
              "  <thead>\n",
              "    <tr style=\"text-align: right;\">\n",
              "      <th></th>\n",
              "      <th>price</th>\n",
              "      <th>minimum_nights</th>\n",
              "      <th>number_of_reviews</th>\n",
              "      <th>reviews_per_month</th>\n",
              "      <th>calculated_host_listings_count</th>\n",
              "      <th>availability_365</th>\n",
              "    </tr>\n",
              "  </thead>\n",
              "  <tbody>\n",
              "    <tr>\n",
              "      <th>count</th>\n",
              "      <td>85207.000000</td>\n",
              "      <td>85207.000000</td>\n",
              "      <td>85207.000000</td>\n",
              "      <td>63769.000000</td>\n",
              "      <td>85207.000000</td>\n",
              "      <td>85207.000000</td>\n",
              "    </tr>\n",
              "    <tr>\n",
              "      <th>mean</th>\n",
              "      <td>128.951800</td>\n",
              "      <td>4.593437</td>\n",
              "      <td>17.284179</td>\n",
              "      <td>0.877056</td>\n",
              "      <td>20.224477</td>\n",
              "      <td>122.478975</td>\n",
              "    </tr>\n",
              "    <tr>\n",
              "      <th>std</th>\n",
              "      <td>306.939736</td>\n",
              "      <td>19.667718</td>\n",
              "      <td>37.170766</td>\n",
              "      <td>1.090839</td>\n",
              "      <td>98.070548</td>\n",
              "      <td>139.290122</td>\n",
              "    </tr>\n",
              "    <tr>\n",
              "      <th>min</th>\n",
              "      <td>0.000000</td>\n",
              "      <td>1.000000</td>\n",
              "      <td>0.000000</td>\n",
              "      <td>0.010000</td>\n",
              "      <td>1.000000</td>\n",
              "      <td>0.000000</td>\n",
              "    </tr>\n",
              "    <tr>\n",
              "      <th>25%</th>\n",
              "      <td>46.000000</td>\n",
              "      <td>1.000000</td>\n",
              "      <td>0.000000</td>\n",
              "      <td>0.180000</td>\n",
              "      <td>1.000000</td>\n",
              "      <td>0.000000</td>\n",
              "    </tr>\n",
              "    <tr>\n",
              "      <th>50%</th>\n",
              "      <td>81.000000</td>\n",
              "      <td>2.000000</td>\n",
              "      <td>4.000000</td>\n",
              "      <td>0.500000</td>\n",
              "      <td>1.000000</td>\n",
              "      <td>74.000000</td>\n",
              "    </tr>\n",
              "    <tr>\n",
              "      <th>75%</th>\n",
              "      <td>140.000000</td>\n",
              "      <td>3.000000</td>\n",
              "      <td>17.000000</td>\n",
              "      <td>1.150000</td>\n",
              "      <td>5.000000</td>\n",
              "      <td>251.000000</td>\n",
              "    </tr>\n",
              "    <tr>\n",
              "      <th>max</th>\n",
              "      <td>20471.000000</td>\n",
              "      <td>1125.000000</td>\n",
              "      <td>775.000000</td>\n",
              "      <td>21.810000</td>\n",
              "      <td>910.000000</td>\n",
              "      <td>365.000000</td>\n",
              "    </tr>\n",
              "  </tbody>\n",
              "</table>\n",
              "</div>"
            ],
            "text/plain": [
              "              price  ...  availability_365\n",
              "count  85207.000000  ...      85207.000000\n",
              "mean     128.951800  ...        122.478975\n",
              "std      306.939736  ...        139.290122\n",
              "min        0.000000  ...          0.000000\n",
              "25%       46.000000  ...          0.000000\n",
              "50%       81.000000  ...         74.000000\n",
              "75%      140.000000  ...        251.000000\n",
              "max    20471.000000  ...        365.000000\n",
              "\n",
              "[8 rows x 6 columns]"
            ]
          },
          "metadata": {
            "tags": []
          },
          "execution_count": 86
        }
      ]
    },
    {
      "cell_type": "markdown",
      "metadata": {
        "id": "_M5n4p73fBpx",
        "colab_type": "text"
      },
      "source": [
        "Analisando o resumo estatístico acima, podemos identificar alguns *outliers*:\n",
        "* A variável `price` possui 75% dos valores abaixo de £140, porém o maior valor dessa variável é  £20.471;\n",
        "* O maior valor da variável `minimum_nights`, que representa o número mínimo de noites que o anfitrião aceita alugar o imóvel, é igual a 1125 dias;\n",
        "* O maior valor da variável `calculated_host_listings_count`, que representa a quantidade de imóveis de um mesmo anfitrião é igual a 910."
      ]
    },
    {
      "cell_type": "markdown",
      "metadata": {
        "id": "7W_ByVjYgp9r",
        "colab_type": "text"
      },
      "source": [
        "#### Boxplot para a variável `minimum_nights`"
      ]
    },
    {
      "cell_type": "code",
      "metadata": {
        "id": "rgikwJCsguF1",
        "colab_type": "code",
        "colab": {
          "base_uri": "https://localhost:8080/",
          "height": 262
        },
        "outputId": "cda2afc7-c322-4cfb-826d-2e493a83ff70"
      },
      "source": [
        "# Boxplot minimum_nights\n",
        "df.minimum_nights.plot(kind='box', vert=False, figsize=(15,3));\n",
        "plt.show()\n",
        "# Valores acima de 30 dias para minimum_nights\n",
        "print('Valores acima de 30 dias:')\n",
        "print(f'{len(df[df.minimum_nights>30])} entradas')\n",
        "print(f'Que representa {(len(df [df.minimum_nights > 30])/df.shape[0])*100:.4f}%')"
      ],
      "execution_count": 110,
      "outputs": [
        {
          "output_type": "display_data",
          "data": {
            "image/png": "[encoded data removed]",
            "text/plain": [
              "<Figure size 1080x216 with 1 Axes>"
            ]
          },
          "metadata": {
            "tags": [],
            "needs_background": "light"
          }
        },
        {
          "output_type": "stream",
          "text": [
            "Valores acima de 30 dias:\n",
            "1039 entradas\n",
            "Que representa 1.2194%\n"
          ],
          "name": "stdout"
        }
      ]
    }
  ]
}