{
  "nbformat": 4,
  "nbformat_minor": 0,
  "metadata": {
    "colab": {
      "name": "Primeiro Notebook.ipynb",
      "provenance": [],
      "collapsed_sections": [],
      "authorship_tag": "ABX9TyNUuGmB8xnyyIlEVcHZJDJ7",
      "include_colab_link": true
    },
    "kernelspec": {
      "name": "python3",
      "display_name": "Python 3"
    }
  },
  "cells": [
    {
      "cell_type": "markdown",
      "metadata": {
        "id": "view-in-github",
        "colab_type": "text"
      },
      "source": [
        "<a href=\"https://colab.research.google.com/github/gorselli14/Portifolio_Projetos/blob/master/Primeiro_Notebook.ipynb\" target=\"_parent\"><img src=\"https://colab.research.google.com/assets/colab-badge.svg\" alt=\"Open In Colab\"/></a>"
      ]
    },
    {
      "cell_type": "markdown",
      "metadata": {
        "id": "dl_BFnpbtC4i",
        "colab_type": "text"
      },
      "source": [
        "<h2>Primeiro Notebook</h2>\n",
        "\n",
        "\n",
        "---\n",
        "\n",
        "\n",
        "![Python Logo](http://icons.iconarchive.com/icons/cornmanthe3rd/plex/96/Other-python-icon.png) Esse é o meu primeiro Notebook feito no colab!!\n",
        "\n",
        "\n",
        "\n",
        "\n",
        "\n",
        "<br>Abaixo está um programa simples em python que fará as seguintes funções:\n",
        "\n",
        "\n",
        "* Escolher um número aleatório\n",
        "* Imprimir o número aleatório sorteado\n",
        "* Não permitirá a impressão de números repetidos\n"
      ]
    },
    {
      "cell_type": "code",
      "metadata": {
        "id": "xA3rSp8_tBfu",
        "colab_type": "code",
        "colab": {}
      },
      "source": [
        "from random import randint\n",
        "ListNum = []\n",
        "qtnum = int(input('Quantidade de números sorteados: '))\n",
        "for count in range (0, qtnum):\n",
        "  num = randint(0,100)\n",
        "  if num not in ListNum:\n",
        "    print (num)\n",
        "    ListNum.append(num)\n",
        "ListNum.sort()\n",
        "print(ListNum)"
      ],
      "execution_count": 0,
      "outputs": []
    },
    {
      "cell_type": "code",
      "metadata": {
        "id": "byUdfTBS0wRe",
        "colab_type": "code",
        "outputId": "3fe47429-6928-43dd-87dc-84557c488ffa",
        "colab": {
          "base_uri": "https://localhost:8080/",
          "height": 510
        }
      },
      "source": [
        "#executando comandos em linux\n",
        "!pwd\n",
        "!ls / -l"
      ],
      "execution_count": 0,
      "outputs": [
        {
          "output_type": "stream",
          "text": [
            "/content\n",
            "total 8056\n",
            "drwxr-xr-x   1 root root    4096 Jun 10 16:21 bin\n",
            "drwxr-xr-x   2 root root    4096 Apr 24  2018 boot\n",
            "drwxr-xr-x   1 root root    4096 Jun 10 16:28 content\n",
            "drwxr-xr-x   1 root root    4096 Jun 10 16:57 datalab\n",
            "drwxr-xr-x   5 root root     360 Jun 11 18:44 dev\n",
            "-rw-r--r--   1 root root 4078115 Jun 10 16:28 dlib-19.18.0-cp27-cp27mu-linux_x86_64.whl\n",
            "-rw-r--r--   1 root root 4068717 Jun 10 16:28 dlib-19.18.0-cp36-cp36m-linux_x86_64.whl\n",
            "drwxr-xr-x   1 root root    4096 Jun 11 18:44 etc\n",
            "drwxr-xr-x   2 root root    4096 Apr 24  2018 home\n",
            "drwxr-xr-x   1 root root    4096 Jun 10 16:22 lib\n",
            "drwxr-xr-x   2 root root    4096 Jun 10 16:16 lib32\n",
            "drwxr-xr-x   2 root root    4096 Oct 29  2019 lib64\n",
            "drwxr-xr-x   2 root root    4096 Oct 29  2019 media\n",
            "drwxr-xr-x   2 root root    4096 Oct 29  2019 mnt\n",
            "drwxr-xr-x   1 root root    4096 Jun 10 16:23 opt\n",
            "dr-xr-xr-x 105 root root       0 Jun 11 18:44 proc\n",
            "drwx------   1 root root    4096 Jun 11 18:44 root\n",
            "drwxr-xr-x   1 root root    4096 Jun 10 16:18 run\n",
            "drwxr-xr-x   1 root root    4096 Jun 10 16:21 sbin\n",
            "drwxr-xr-x   2 root root    4096 Oct 29  2019 srv\n",
            "drwxr-xr-x   4 root root    4096 Jun 10 16:56 swift\n",
            "dr-xr-xr-x  12 root root       0 Jun 11 18:44 sys\n",
            "drwxr-xr-x   4 root root    4096 Jun 10 16:52 tensorflow-1.15.2\n",
            "drwxrwxrwt   1 root root    4096 Jun 11 18:45 tmp\n",
            "drwxr-xr-x   1 root root    4096 Jun 10 16:57 tools\n",
            "drwxr-xr-x   1 root root    4096 Jun 10 16:23 usr\n",
            "drwxr-xr-x   1 root root    4096 Jun 11 18:44 var\n"
          ],
          "name": "stdout"
        }
      ]
    },
    {
      "cell_type": "code",
      "metadata": {
        "id": "vYUUsV_527uq",
        "colab_type": "code",
        "outputId": "f243b961-7d16-42bb-dc9b-55a6c026c958",
        "colab": {
          "base_uri": "https://localhost:8080/",
          "height": 102
        }
      },
      "source": [
        "pip install pygame"
      ],
      "execution_count": 0,
      "outputs": [
        {
          "output_type": "stream",
          "text": [
            "Collecting pygame\n",
            "\u001b[?25l  Downloading https://files.pythonhosted.org/packages/8e/24/ede6428359f913ed9cd1643dd5533aefeb5a2699cc95bea089de50ead586/pygame-1.9.6-cp36-cp36m-manylinux1_x86_64.whl (11.4MB)\n",
            "\u001b[K     |████████████████████████████████| 11.4MB 3.1MB/s \n",
            "\u001b[?25hInstalling collected packages: pygame\n",
            "Successfully installed pygame-1.9.6\n"
          ],
          "name": "stdout"
        }
      ]
    }
  ]
}