{
  "nbformat": 4,
  "nbformat_minor": 0,
  "metadata": {
    "colab": {
      "name": "Mod2 - Análise Ações Tupperware.ipynb",
      "provenance": [],
      "authorship_tag": "ABX9TyO18vAJYVj1S28JwNZpqS9y",
      "include_colab_link": true
    },
    "kernelspec": {
      "name": "python3",
      "display_name": "Python 3"
    }
  },
  "cells": [
    {
      "cell_type": "markdown",
      "metadata": {
        "id": "view-in-github",
        "colab_type": "text"
      },
      "source": [
        "<a href=\"https://colab.research.google.com/github/gorselli14/Portifolio_Projetos/blob/master/Mod2_An%C3%A1lise_A%C3%A7%C3%B5es_Tupperware.ipynb\" target=\"_parent\"><img src=\"https://colab.research.google.com/assets/colab-badge.svg\" alt=\"Open In Colab\"/></a>"
      ]
    },
    {
      "cell_type": "markdown",
      "metadata": {
        "id": "EEf0-0pDqmyJ",
        "colab_type": "text"
      },
      "source": [
        "#Analisando as ações da Tupperware com Pandas\n"
      ]
    },
    {
      "cell_type": "code",
      "metadata": {
        "id": "9c9Oj_HRwP2p",
        "colab_type": "code",
        "colab": {
          "base_uri": "https://localhost:8080/",
          "height": 51
        },
        "outputId": "b44b7bc8-e624-4bb8-a26e-99ecfa072247"
      },
      "source": [
        "#importandp Pandas\n",
        "import pandas as pd\n",
        "import matplotlib.pyplot as plt\n",
        "import seaborn as sns\n"
      ],
      "execution_count": 54,
      "outputs": [
        {
          "output_type": "stream",
          "text": [
            "/usr/local/lib/python3.6/dist-packages/statsmodels/tools/_testing.py:19: FutureWarning: pandas.util.testing is deprecated. Use the functions in the public API at pandas.testing instead.\n",
            "  import pandas.util.testing as tm\n"
          ],
          "name": "stderr"
        }
      ]
    },
    {
      "cell_type": "markdown",
      "metadata": {
        "id": "EjK4uMHyFdHz",
        "colab_type": "text"
      },
      "source": [
        "##Importanção dos dados e análise do dataset"
      ]
    },
    {
      "cell_type": "markdown",
      "metadata": {
        "id": "E8KMgvhCFkya",
        "colab_type": "text"
      },
      "source": [
        "Os dados que serão analisados abaixo, foram obtidos do site do Yahoo Finance, considerando o intervalo entre Janeiro de 2010 e Julho de 2020.\n",
        "\n",
        "<img alt=\"Tupperware yahoo Finance\" width=\"70%\" src=https://raw.githubusercontent.com/gorselli14/Dados/master/Tupperware/Yahoo_Fin_TW_v2.PNG>"
      ]
    },
    {
      "cell_type": "code",
      "metadata": {
        "id": "2Wb2CnnxyPti",
        "colab_type": "code",
        "colab": {
          "base_uri": "https://localhost:8080/",
          "height": 255
        },
        "outputId": "c65c7ee2-e595-4228-d7c5-65ed55a66aa2"
      },
      "source": [
        "#Importando dataframe\n",
        "df = pd.read_csv('https://raw.githubusercontent.com/gorselli14/Dados/master/Tupperware/TUP_2010_2020.csv')\n",
        "print(df)"
      ],
      "execution_count": 3,
      "outputs": [
        {
          "output_type": "stream",
          "text": [
            "            Date       Open       High  ...      Close  Adj Close   Volume\n",
            "0     2010-01-04  47.209999  48.400002  ...  47.950001  32.726307   721000\n",
            "1     2010-01-05  48.259998  48.830002  ...  48.290001  32.958382   738100\n",
            "2     2010-01-06  48.369999  49.220001  ...  48.660000  33.210899   575000\n",
            "3     2010-01-07  48.439999  48.790001  ...  48.189999  32.890118   528000\n",
            "4     2010-01-08  48.150002  48.240002  ...  47.799999  32.623947   527600\n",
            "...          ...        ...        ...  ...        ...        ...      ...\n",
            "2638  2020-06-26   4.410000   4.470000  ...   4.290000   4.290000  2865700\n",
            "2639  2020-06-29   4.160000   4.700000  ...   4.700000   4.700000  2854900\n",
            "2640  2020-06-30   4.710000   4.870000  ...   4.750000   4.750000  2463800\n",
            "2641  2020-07-01   4.760000   5.700000  ...   5.580000   5.580000  5701900\n",
            "2642  2020-07-02   5.790000   5.970000  ...   5.590000   5.590000  2791700\n",
            "\n",
            "[2643 rows x 7 columns]\n"
          ],
          "name": "stdout"
        }
      ]
    },
    {
      "cell_type": "code",
      "metadata": {
        "id": "Dyy1UYRlznsp",
        "colab_type": "code",
        "colab": {
          "base_uri": "https://localhost:8080/",
          "height": 68
        },
        "outputId": "cca9972d-b041-4f9d-f418-b5ae4d829547"
      },
      "source": [
        "#visualizar a dimensão do Dataframe\n",
        "print(df.shape)\n",
        "print(f'Quantidade de linhas {df.shape[0]}')\n",
        "print(f'Quantidade de colunas {df.shape[1]}')"
      ],
      "execution_count": 4,
      "outputs": [
        {
          "output_type": "stream",
          "text": [
            "(2643, 7)\n",
            "Quantidade de linhas 2643\n",
            "Quantidade de colunas 7\n"
          ],
          "name": "stdout"
        }
      ]
    },
    {
      "cell_type": "code",
      "metadata": {
        "id": "iXPsX0ln00eU",
        "colab_type": "code",
        "colab": {
          "base_uri": "https://localhost:8080/",
          "height": 255
        },
        "outputId": "fbbc144d-ed1d-4c1f-fd4d-1f975a65dcd7"
      },
      "source": [
        "#Ulitizando df.info() é fácil visualizar se existem informações em branco em cada coluna, além do tipo de dado\n",
        "df.info()"
      ],
      "execution_count": null,
      "outputs": [
        {
          "output_type": "stream",
          "text": [
            "<class 'pandas.core.frame.DataFrame'>\n",
            "RangeIndex: 2643 entries, 0 to 2642\n",
            "Data columns (total 7 columns):\n",
            " #   Column     Non-Null Count  Dtype  \n",
            "---  ------     --------------  -----  \n",
            " 0   Date       2643 non-null   object \n",
            " 1   Open       2643 non-null   float64\n",
            " 2   High       2643 non-null   float64\n",
            " 3   Low        2643 non-null   float64\n",
            " 4   Close      2643 non-null   float64\n",
            " 5   Adj Close  2643 non-null   float64\n",
            " 6   Volume     2643 non-null   int64  \n",
            "dtypes: float64(5), int64(1), object(1)\n",
            "memory usage: 144.7+ KB\n"
          ],
          "name": "stdout"
        }
      ]
    },
    {
      "cell_type": "markdown",
      "metadata": {
        "id": "bOJzNOvBK42w",
        "colab_type": "text"
      },
      "source": [
        "##Convertendo a coluna Date\n",
        "Conforme mostrado no médito info(), a coluna Date originalmente foi importada com o formato `object`, dessa forma não é possível utilizar essa informação adequadamente.\n",
        "Convertendo essa coluna para o formato de data, será possivel realizar agrupamentos por períodos distintos."
      ]
    },
    {
      "cell_type": "code",
      "metadata": {
        "id": "9i7zTIC73V6o",
        "colab_type": "code",
        "colab": {}
      },
      "source": [
        "#convertendo para o formato de data\n",
        "#informar em qual coluna a conversão será gravada, informar qual coluna será convertida e informar o formato como a data está descrita na coluna original\n",
        "df.Date = pd.to_datetime(df['Date'],format='%Y-%m-%d')"
      ],
      "execution_count": 6,
      "outputs": []
    },
    {
      "cell_type": "code",
      "metadata": {
        "id": "kYYrEM1a4LdZ",
        "colab_type": "code",
        "colab": {
          "base_uri": "https://localhost:8080/",
          "height": 255
        },
        "outputId": "1a7fe7a8-fb19-4238-fadd-2ac29a0704a4"
      },
      "source": [
        "#agora aparece no formato de data (Dtype = datetime64[ns])\n",
        "df.info()"
      ],
      "execution_count": 7,
      "outputs": [
        {
          "output_type": "stream",
          "text": [
            "<class 'pandas.core.frame.DataFrame'>\n",
            "RangeIndex: 2643 entries, 0 to 2642\n",
            "Data columns (total 7 columns):\n",
            " #   Column     Non-Null Count  Dtype         \n",
            "---  ------     --------------  -----         \n",
            " 0   Date       2643 non-null   datetime64[ns]\n",
            " 1   Open       2643 non-null   float64       \n",
            " 2   High       2643 non-null   float64       \n",
            " 3   Low        2643 non-null   float64       \n",
            " 4   Close      2643 non-null   float64       \n",
            " 5   Adj Close  2643 non-null   float64       \n",
            " 6   Volume     2643 non-null   int64         \n",
            "dtypes: datetime64[ns](1), float64(5), int64(1)\n",
            "memory usage: 144.7 KB\n"
          ],
          "name": "stdout"
        }
      ]
    },
    {
      "cell_type": "markdown",
      "metadata": {
        "id": "9dTgTNL3_zij",
        "colab_type": "text"
      },
      "source": [
        "##Analisando os dados das ações da Tupperware\n"
      ]
    },
    {
      "cell_type": "markdown",
      "metadata": {
        "id": "ftHDFS1VL6pM",
        "colab_type": "text"
      },
      "source": [
        "Apare seguir com as análises, vou criar um novo dataframe, somente com as colunas Date, Open e Close.\n",
        "Vou utilizar essas informações para calcular a variação % das ações em cada dia.\n",
        "\n",
        "No *DataFrame* `df_clean` teremos a seguinte informação:\n",
        "\n",
        "\n",
        "*   **Date**: data da negocição das ações\n",
        "*   **Open**: valor das ações na abertura do mercado\n",
        "*   **Close**: valor das ações no fechamento do mercado\n",
        "*   **Variation %**: percentual de variação da ação no dia\n",
        "\n"
      ]
    },
    {
      "cell_type": "code",
      "metadata": {
        "id": "wMdT4lsT_zCk",
        "colab_type": "code",
        "colab": {}
      },
      "source": [
        "#criando o dataframe com as colunas que vou utilizar\n",
        "df_clean = pd.DataFrame(df, columns=['Date','Open','Close'])\n",
        "df_clean['Variation %'] = ((df_clean['Close']-df_clean['Open'])/df_clean['Open'])*100"
      ],
      "execution_count": 33,
      "outputs": []
    },
    {
      "cell_type": "code",
      "metadata": {
        "id": "t4u8VnGZRA_D",
        "colab_type": "code",
        "colab": {
          "base_uri": "https://localhost:8080/",
          "height": 297
        },
        "outputId": "f0e9817d-a7f3-46b4-a48c-bd5f0edc2ff7"
      },
      "source": [
        "#Resumo estatístico\n",
        "df_clean.describe()"
      ],
      "execution_count": 34,
      "outputs": [
        {
          "output_type": "execute_result",
          "data": {
            "text/html": [
              "<div>\n",
              "<style scoped>\n",
              "    .dataframe tbody tr th:only-of-type {\n",
              "        vertical-align: middle;\n",
              "    }\n",
              "\n",
              "    .dataframe tbody tr th {\n",
              "        vertical-align: top;\n",
              "    }\n",
              "\n",
              "    .dataframe thead th {\n",
              "        text-align: right;\n",
              "    }\n",
              "</style>\n",
              "<table border=\"1\" class=\"dataframe\">\n",
              "  <thead>\n",
              "    <tr style=\"text-align: right;\">\n",
              "      <th></th>\n",
              "      <th>Open</th>\n",
              "      <th>Close</th>\n",
              "      <th>Variation %</th>\n",
              "    </tr>\n",
              "  </thead>\n",
              "  <tbody>\n",
              "    <tr>\n",
              "      <th>count</th>\n",
              "      <td>2643.000000</td>\n",
              "      <td>2643.000000</td>\n",
              "      <td>2643.000000</td>\n",
              "    </tr>\n",
              "    <tr>\n",
              "      <th>mean</th>\n",
              "      <td>54.036557</td>\n",
              "      <td>54.031139</td>\n",
              "      <td>-0.022292</td>\n",
              "    </tr>\n",
              "    <tr>\n",
              "      <th>std</th>\n",
              "      <td>20.934043</td>\n",
              "      <td>20.942174</td>\n",
              "      <td>2.825428</td>\n",
              "    </tr>\n",
              "    <tr>\n",
              "      <th>min</th>\n",
              "      <td>1.310000</td>\n",
              "      <td>1.250000</td>\n",
              "      <td>-34.210526</td>\n",
              "    </tr>\n",
              "    <tr>\n",
              "      <th>25%</th>\n",
              "      <td>44.669998</td>\n",
              "      <td>44.405000</td>\n",
              "      <td>-0.893617</td>\n",
              "    </tr>\n",
              "    <tr>\n",
              "      <th>50%</th>\n",
              "      <td>57.349998</td>\n",
              "      <td>57.349998</td>\n",
              "      <td>0.032058</td>\n",
              "    </tr>\n",
              "    <tr>\n",
              "      <th>75%</th>\n",
              "      <td>65.754998</td>\n",
              "      <td>65.700001</td>\n",
              "      <td>0.877281</td>\n",
              "    </tr>\n",
              "    <tr>\n",
              "      <th>max</th>\n",
              "      <td>96.440002</td>\n",
              "      <td>96.000000</td>\n",
              "      <td>43.750000</td>\n",
              "    </tr>\n",
              "  </tbody>\n",
              "</table>\n",
              "</div>"
            ],
            "text/plain": [
              "              Open        Close  Variation %\n",
              "count  2643.000000  2643.000000  2643.000000\n",
              "mean     54.036557    54.031139    -0.022292\n",
              "std      20.934043    20.942174     2.825428\n",
              "min       1.310000     1.250000   -34.210526\n",
              "25%      44.669998    44.405000    -0.893617\n",
              "50%      57.349998    57.349998     0.032058\n",
              "75%      65.754998    65.700001     0.877281\n",
              "max      96.440002    96.000000    43.750000"
            ]
          },
          "metadata": {
            "tags": []
          },
          "execution_count": 34
        }
      ]
    },
    {
      "cell_type": "code",
      "metadata": {
        "id": "ROqsNlZYQEtN",
        "colab_type": "code",
        "colab": {
          "base_uri": "https://localhost:8080/",
          "height": 85
        },
        "outputId": "10e796c1-8208-4ac0-b36e-07215ef1fb42"
      },
      "source": [
        "print(f'Maior valor da ação desde 2010: U${df_clean[\"Open\"].max():.2f}')\n",
        "print(f'Maior variação: {df_clean[\"Variation %\"].max():.2f}%')\n",
        "print(f'Menor valor da ação desde 2010: U${df_clean[\"Close\"].min()}')\n",
        "print(f'Maior variação Negativa: {df_clean[\"Variation %\"].min():.2f}%')"
      ],
      "execution_count": 130,
      "outputs": [
        {
          "output_type": "stream",
          "text": [
            "Maior valor da ação: U$96.44\n",
            "Maior variação: 43.75%\n",
            "Menor valor da ação: U$1.25\n",
            "Maior variação Negativa: -34.21%\n"
          ],
          "name": "stdout"
        }
      ]
    },
    {
      "cell_type": "code",
      "metadata": {
        "id": "SWeXIAfX_4Sl",
        "colab_type": "code",
        "colab": {
          "base_uri": "https://localhost:8080/",
          "height": 354
        },
        "outputId": "9063eb15-4f9c-455a-a45c-00e8fade16b8"
      },
      "source": [
        "print('Histograma do valor de fechamento das ações Tupperware nos últimos 10 anos')\n",
        "df_clean[\"Close\"].hist(bins=100, figsize=(10,5), color='darkblue', grid=False)"
      ],
      "execution_count": 133,
      "outputs": [
        {
          "output_type": "stream",
          "text": [
            "Histograma do valor de fechamento das ações Tupperware nos últimos 10 anos\n"
          ],
          "name": "stdout"
        },
        {
          "output_type": "execute_result",
          "data": {
            "text/plain": [
              "<matplotlib.axes._subplots.AxesSubplot at 0x7f2560114ef0>"
            ]
          },
          "metadata": {
            "tags": []
          },
          "execution_count": 133
        },
        {
          "output_type": "display_data",
          "data": {
            "image/png": "[encoded data removed]",
            "text/plain": [
              "<Figure size 720x360 with 1 Axes>"
            ]
          },
          "metadata": {
            "tags": [],
            "needs_background": "light"
          }
        }
      ]
    },
    {
      "cell_type": "code",
      "metadata": {
        "id": "bFkmXvvLRoef",
        "colab_type": "code",
        "colab": {
          "base_uri": "https://localhost:8080/",
          "height": 354
        },
        "outputId": "45813e7d-c1d6-44fa-d816-aaddfcbd6fc6"
      },
      "source": [
        "print('Histograma do % de variação das ações da Tupperware nos últimos 10 anos')\n",
        "df_clean['Variation %'].hist(bins=100, figsize=(10,5), color='Blue', grid=False)"
      ],
      "execution_count": null,
      "outputs": [
        {
          "output_type": "stream",
          "text": [
            "Histograma do % de variação das ações da Tupperware nos últimos 10 anos\n"
          ],
          "name": "stdout"
        },
        {
          "output_type": "execute_result",
          "data": {
            "text/plain": [
              "<matplotlib.axes._subplots.AxesSubplot at 0x7f256f148630>"
            ]
          },
          "metadata": {
            "tags": []
          },
          "execution_count": 52
        },
        {
          "output_type": "display_data",
          "data": {
            "image/png": "[encoded data removed]",
            "text/plain": [
              "<Figure size 720x360 with 1 Axes>"
            ]
          },
          "metadata": {
            "tags": [],
            "needs_background": "light"
          }
        }
      ]
    },
    {
      "cell_type": "code",
      "metadata": {
        "id": "M1Nqagp-8D2L",
        "colab_type": "code",
        "colab": {
          "base_uri": "https://localhost:8080/",
          "height": 337
        },
        "outputId": "0f530576-e4db-42d4-c2cb-e999f02d5eaa"
      },
      "source": [
        "#BoxPlot\n",
        "df_clean.plot(kind='box', vert=False, figsize=(15,5))"
      ],
      "execution_count": 167,
      "outputs": [
        {
          "output_type": "execute_result",
          "data": {
            "text/plain": [
              "<matplotlib.axes._subplots.AxesSubplot at 0x7f255fe2b550>"
            ]
          },
          "metadata": {
            "tags": []
          },
          "execution_count": 167
        },
        {
          "output_type": "display_data",
          "data": {
            "image/png": "[encoded data removed]",
            "text/plain": [
              "<Figure size 1080x360 with 1 Axes>"
            ]
          },
          "metadata": {
            "tags": [],
            "needs_background": "light"
          }
        }
      ]
    },
    {
      "cell_type": "code",
      "metadata": {
        "id": "NUh0lqFQo3F8",
        "colab_type": "code",
        "colab": {
          "base_uri": "https://localhost:8080/",
          "height": 421
        },
        "outputId": "3a72d9fe-fdd9-43ce-d29d-f0abe4db250a"
      },
      "source": [
        "#Media dos valores das colunas em cada ano\n",
        "df_clean.groupby(df_clean[\"Date\"].dt.year).mean()"
      ],
      "execution_count": 134,
      "outputs": [
        {
          "output_type": "execute_result",
          "data": {
            "text/html": [
              "<div>\n",
              "<style scoped>\n",
              "    .dataframe tbody tr th:only-of-type {\n",
              "        vertical-align: middle;\n",
              "    }\n",
              "\n",
              "    .dataframe tbody tr th {\n",
              "        vertical-align: top;\n",
              "    }\n",
              "\n",
              "    .dataframe thead th {\n",
              "        text-align: right;\n",
              "    }\n",
              "</style>\n",
              "<table border=\"1\" class=\"dataframe\">\n",
              "  <thead>\n",
              "    <tr style=\"text-align: right;\">\n",
              "      <th></th>\n",
              "      <th>Open</th>\n",
              "      <th>Close</th>\n",
              "      <th>Variation %</th>\n",
              "    </tr>\n",
              "    <tr>\n",
              "      <th>Date</th>\n",
              "      <th></th>\n",
              "      <th></th>\n",
              "      <th></th>\n",
              "    </tr>\n",
              "  </thead>\n",
              "  <tbody>\n",
              "    <tr>\n",
              "      <th>2010</th>\n",
              "      <td>44.907619</td>\n",
              "      <td>44.908492</td>\n",
              "      <td>0.021008</td>\n",
              "    </tr>\n",
              "    <tr>\n",
              "      <th>2011</th>\n",
              "      <td>58.704841</td>\n",
              "      <td>58.723770</td>\n",
              "      <td>0.047093</td>\n",
              "    </tr>\n",
              "    <tr>\n",
              "      <th>2012</th>\n",
              "      <td>58.391480</td>\n",
              "      <td>58.412600</td>\n",
              "      <td>0.039977</td>\n",
              "    </tr>\n",
              "    <tr>\n",
              "      <th>2013</th>\n",
              "      <td>82.434127</td>\n",
              "      <td>82.499484</td>\n",
              "      <td>0.091609</td>\n",
              "    </tr>\n",
              "    <tr>\n",
              "      <th>2014</th>\n",
              "      <td>76.925079</td>\n",
              "      <td>76.825714</td>\n",
              "      <td>-0.113912</td>\n",
              "    </tr>\n",
              "    <tr>\n",
              "      <th>2015</th>\n",
              "      <td>61.656865</td>\n",
              "      <td>61.643254</td>\n",
              "      <td>-0.019448</td>\n",
              "    </tr>\n",
              "    <tr>\n",
              "      <th>2016</th>\n",
              "      <td>57.535079</td>\n",
              "      <td>57.606984</td>\n",
              "      <td>0.144352</td>\n",
              "    </tr>\n",
              "    <tr>\n",
              "      <th>2017</th>\n",
              "      <td>62.935857</td>\n",
              "      <td>62.949442</td>\n",
              "      <td>0.032845</td>\n",
              "    </tr>\n",
              "    <tr>\n",
              "      <th>2018</th>\n",
              "      <td>42.271474</td>\n",
              "      <td>42.171673</td>\n",
              "      <td>-0.203409</td>\n",
              "    </tr>\n",
              "    <tr>\n",
              "      <th>2019</th>\n",
              "      <td>19.717817</td>\n",
              "      <td>19.694405</td>\n",
              "      <td>-0.143610</td>\n",
              "    </tr>\n",
              "    <tr>\n",
              "      <th>2020</th>\n",
              "      <td>4.248740</td>\n",
              "      <td>4.223780</td>\n",
              "      <td>-0.259281</td>\n",
              "    </tr>\n",
              "  </tbody>\n",
              "</table>\n",
              "</div>"
            ],
            "text/plain": [
              "           Open      Close  Variation %\n",
              "Date                                   \n",
              "2010  44.907619  44.908492     0.021008\n",
              "2011  58.704841  58.723770     0.047093\n",
              "2012  58.391480  58.412600     0.039977\n",
              "2013  82.434127  82.499484     0.091609\n",
              "2014  76.925079  76.825714    -0.113912\n",
              "2015  61.656865  61.643254    -0.019448\n",
              "2016  57.535079  57.606984     0.144352\n",
              "2017  62.935857  62.949442     0.032845\n",
              "2018  42.271474  42.171673    -0.203409\n",
              "2019  19.717817  19.694405    -0.143610\n",
              "2020   4.248740   4.223780    -0.259281"
            ]
          },
          "metadata": {
            "tags": []
          },
          "execution_count": 134
        }
      ]
    },
    {
      "cell_type": "code",
      "metadata": {
        "id": "V0pVqlaVs-h0",
        "colab_type": "code",
        "colab": {
          "base_uri": "https://localhost:8080/",
          "height": 119
        },
        "outputId": "45a2a060-0883-408d-e707-58e60b907517"
      },
      "source": [
        "print('Data da MAIOR cotação da ação da Tupperware')\n",
        "df_clean.loc[df_clean[\"Open\"].idxmax()]"
      ],
      "execution_count": 126,
      "outputs": [
        {
          "output_type": "stream",
          "text": [
            "Data da MAIOR cotação da ação da Tupperware\n"
          ],
          "name": "stdout"
        },
        {
          "output_type": "execute_result",
          "data": {
            "text/plain": [
              "Date           2013-12-26 00:00:00\n",
              "Open                         96.44\n",
              "Close                        95.54\n",
              "Variation %              -0.933224\n",
              "Name: 1002, dtype: object"
            ]
          },
          "metadata": {
            "tags": []
          },
          "execution_count": 126
        }
      ]
    },
    {
      "cell_type": "code",
      "metadata": {
        "id": "Us_7v3MNvLHU",
        "colab_type": "code",
        "colab": {
          "base_uri": "https://localhost:8080/",
          "height": 119
        },
        "outputId": "7b9f14df-0924-4193-8d5d-2f7e504658c0"
      },
      "source": [
        "print('Data da MENOR cotação da ação da Tupperware')\n",
        "df_clean.loc[df_clean[\"Close\"].idxmin()]"
      ],
      "execution_count": 131,
      "outputs": [
        {
          "output_type": "stream",
          "text": [
            "Data da MENOR cotação da ação da Tupperware\n"
          ],
          "name": "stdout"
        },
        {
          "output_type": "execute_result",
          "data": {
            "text/plain": [
              "Date           2020-03-16 00:00:00\n",
              "Open                           1.9\n",
              "Close                         1.25\n",
              "Variation %               -34.2105\n",
              "Name: 2566, dtype: object"
            ]
          },
          "metadata": {
            "tags": []
          },
          "execution_count": 131
        }
      ]
    },
    {
      "cell_type": "code",
      "metadata": {
        "id": "2VE1Ui_KyHL9",
        "colab_type": "code",
        "colab": {
          "base_uri": "https://localhost:8080/",
          "height": 34
        },
        "outputId": "150e4b4a-501e-4de7-a161-687a1fed6af0"
      },
      "source": [
        "varia = ((df_clean['Open'].max()-df_clean['Close'].min())/df_clean['Open'].max())*100\n",
        "print (f'Perda de {varia:.2f}% do valor da ação, considerando o maior e o menor valor.')"
      ],
      "execution_count": 146,
      "outputs": [
        {
          "output_type": "stream",
          "text": [
            "Perda de 98.70% do valor da ação, considerando o maior e o menor valor.\n"
          ],
          "name": "stdout"
        }
      ]
    },
    {
      "cell_type": "code",
      "metadata": {
        "id": "KKlnqoMvzrVr",
        "colab_type": "code",
        "colab": {
          "base_uri": "https://localhost:8080/",
          "height": 51
        },
        "outputId": "ec214e6c-d7d7-4da4-fa58-0c1af626f297"
      },
      "source": [
        "print(f'Primeiro valor da ação em 2010: U${df_clean.iloc[0,1]:.2f}')\n",
        "print(f'Valor atual da ação: U${df_clean.iloc[-1,2]}')"
      ],
      "execution_count": 162,
      "outputs": [
        {
          "output_type": "stream",
          "text": [
            "Primeiro valor da ação em 2010: U$47.21\n",
            "Valor atual da ação: U$5.59\n"
          ],
          "name": "stdout"
        }
      ]
    }
  ]
}