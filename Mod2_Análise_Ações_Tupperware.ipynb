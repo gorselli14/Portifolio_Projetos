{
  "nbformat": 4,
  "nbformat_minor": 0,
  "metadata": {
    "colab": {
      "name": "Mod2 - Análise Ações Tupperware.ipynb",
      "provenance": [],
      "toc_visible": true,
      "authorship_tag": "ABX9TyORyoO45M+GkkbOL98ewLbK",
      "include_colab_link": true
    },
    "kernelspec": {
      "name": "python3",
      "display_name": "Python 3"
    }
  },
  "cells": [
    {
      "cell_type": "markdown",
      "metadata": {
        "id": "view-in-github",
        "colab_type": "text"
      },
      "source": [
        "<a href=\"https://colab.research.google.com/github/gorselli14/Portifolio_Projetos/blob/master/Mod2_An%C3%A1lise_A%C3%A7%C3%B5es_Tupperware.ipynb\" target=\"_parent\"><img src=\"https://colab.research.google.com/assets/colab-badge.svg\" alt=\"Open In Colab\"/></a>"
      ]
    },
    {
      "cell_type": "markdown",
      "metadata": {
        "id": "EEf0-0pDqmyJ",
        "colab_type": "text"
      },
      "source": [
        "#Analisando as ações da Tupperware com Pandas\n"
      ]
    },
    {
      "cell_type": "code",
      "metadata": {
        "id": "9c9Oj_HRwP2p",
        "colab_type": "code",
        "colab": {}
      },
      "source": [
        "#importandp Pandas\n",
        "import pandas as pd\n",
        "import matplotlib.pyplot as plt\n"
      ],
      "execution_count": 26,
      "outputs": []
    },
    {
      "cell_type": "markdown",
      "metadata": {
        "id": "EjK4uMHyFdHz",
        "colab_type": "text"
      },
      "source": [
        "##Importanção dos dados e análise do dataset"
      ]
    },
    {
      "cell_type": "markdown",
      "metadata": {
        "id": "E8KMgvhCFkya",
        "colab_type": "text"
      },
      "source": [
        "Os dados que serão analisados abaixo, foram obtidos do site do [Yahoo Finance](https://finance.yahoo.com/quote/TUP/history?period1=1262390400&period2=1593820800&interval=1d&filter=history&frequency=1dhttps://), considerando o intervalo entre Janeiro de 2010 e Julho de 2020.\n",
        "\n",
        "<img alt=\"Tupperware yahoo Finance\" width=\"70%\" src=https://raw.githubusercontent.com/gorselli14/Dados/master/Tupperware/Yahoo_Fin_TW_v2.PNG>"
      ]
    },
    {
      "cell_type": "markdown",
      "metadata": {
        "id": "t7VuRq9a-Spr",
        "colab_type": "text"
      },
      "source": [
        "Os dados form exportados para um arquivos CSV que foi armazenado em um repositório público do meu perfil no **GitHub**\n",
        "\n",
        "https://github.com/gorselli14/Dados/tree/master/Tupperware"
      ]
    },
    {
      "cell_type": "code",
      "metadata": {
        "id": "2Wb2CnnxyPti",
        "colab_type": "code",
        "colab": {
          "base_uri": "https://localhost:8080/",
          "height": 255
        },
        "outputId": "199b6caa-b08f-4bf2-f3c0-f79950d2268e"
      },
      "source": [
        "#Importando dataframe\n",
        "df = pd.read_csv('https://raw.githubusercontent.com/gorselli14/Dados/master/Tupperware/TUP_2010_2020.csv')\n",
        "print(df)"
      ],
      "execution_count": 27,
      "outputs": [
        {
          "output_type": "stream",
          "text": [
            "            Date       Open       High  ...      Close  Adj Close   Volume\n",
            "0     2010-01-04  47.209999  48.400002  ...  47.950001  32.726307   721000\n",
            "1     2010-01-05  48.259998  48.830002  ...  48.290001  32.958382   738100\n",
            "2     2010-01-06  48.369999  49.220001  ...  48.660000  33.210899   575000\n",
            "3     2010-01-07  48.439999  48.790001  ...  48.189999  32.890118   528000\n",
            "4     2010-01-08  48.150002  48.240002  ...  47.799999  32.623947   527600\n",
            "...          ...        ...        ...  ...        ...        ...      ...\n",
            "2638  2020-06-26   4.410000   4.470000  ...   4.290000   4.290000  2865700\n",
            "2639  2020-06-29   4.160000   4.700000  ...   4.700000   4.700000  2854900\n",
            "2640  2020-06-30   4.710000   4.870000  ...   4.750000   4.750000  2463800\n",
            "2641  2020-07-01   4.760000   5.700000  ...   5.580000   5.580000  5701900\n",
            "2642  2020-07-02   5.790000   5.970000  ...   5.590000   5.590000  2791700\n",
            "\n",
            "[2643 rows x 7 columns]\n"
          ],
          "name": "stdout"
        }
      ]
    },
    {
      "cell_type": "code",
      "metadata": {
        "id": "Dyy1UYRlznsp",
        "colab_type": "code",
        "colab": {
          "base_uri": "https://localhost:8080/",
          "height": 68
        },
        "outputId": "0f33772e-34af-487f-fba5-645d653c7660"
      },
      "source": [
        "#visualizar a dimensão do Dataframe\n",
        "print(df.shape)\n",
        "print(f'Quantidade de linhas {df.shape[0]}')\n",
        "print(f'Quantidade de colunas {df.shape[1]}')"
      ],
      "execution_count": 28,
      "outputs": [
        {
          "output_type": "stream",
          "text": [
            "(2643, 7)\n",
            "Quantidade de linhas 2643\n",
            "Quantidade de colunas 7\n"
          ],
          "name": "stdout"
        }
      ]
    },
    {
      "cell_type": "code",
      "metadata": {
        "id": "iXPsX0ln00eU",
        "colab_type": "code",
        "colab": {
          "base_uri": "https://localhost:8080/",
          "height": 255
        },
        "outputId": "2ea05fc7-c34a-4c82-f92e-2ff66ba6018b"
      },
      "source": [
        "#Ulitizando df.info() é fácil visualizar se existem informações em branco em cada coluna, além do tipo de dado\n",
        "df.info()"
      ],
      "execution_count": 29,
      "outputs": [
        {
          "output_type": "stream",
          "text": [
            "<class 'pandas.core.frame.DataFrame'>\n",
            "RangeIndex: 2643 entries, 0 to 2642\n",
            "Data columns (total 7 columns):\n",
            " #   Column     Non-Null Count  Dtype  \n",
            "---  ------     --------------  -----  \n",
            " 0   Date       2643 non-null   object \n",
            " 1   Open       2643 non-null   float64\n",
            " 2   High       2643 non-null   float64\n",
            " 3   Low        2643 non-null   float64\n",
            " 4   Close      2643 non-null   float64\n",
            " 5   Adj Close  2643 non-null   float64\n",
            " 6   Volume     2643 non-null   int64  \n",
            "dtypes: float64(5), int64(1), object(1)\n",
            "memory usage: 144.7+ KB\n"
          ],
          "name": "stdout"
        }
      ]
    },
    {
      "cell_type": "markdown",
      "metadata": {
        "id": "bOJzNOvBK42w",
        "colab_type": "text"
      },
      "source": [
        "##Convertendo a coluna Date\n",
        "Conforme mostrado no método info(), a coluna Date originalmente foi importada com o formato `object`, dessa forma não é possível utilizar essa informação adequadamente.\n",
        "Convertendo essa coluna para o formato de data, será possivel realizar agrupamentos por períodos distintos."
      ]
    },
    {
      "cell_type": "code",
      "metadata": {
        "id": "9i7zTIC73V6o",
        "colab_type": "code",
        "colab": {}
      },
      "source": [
        "#convertendo para o formato de data\n",
        "#informar em qual coluna a conversão será gravada, informar qual coluna será convertida e informar o formato como a data está descrita na coluna original\n",
        "df.Date = pd.to_datetime(df['Date'],format='%Y-%m-%d')"
      ],
      "execution_count": 30,
      "outputs": []
    },
    {
      "cell_type": "code",
      "metadata": {
        "id": "kYYrEM1a4LdZ",
        "colab_type": "code",
        "colab": {
          "base_uri": "https://localhost:8080/",
          "height": 255
        },
        "outputId": "a2d200fa-3b0e-4f1d-bee2-f4756bb0b955"
      },
      "source": [
        "#agora aparece no formato de data (Dtype = datetime64[ns])\n",
        "df.info()"
      ],
      "execution_count": 31,
      "outputs": [
        {
          "output_type": "stream",
          "text": [
            "<class 'pandas.core.frame.DataFrame'>\n",
            "RangeIndex: 2643 entries, 0 to 2642\n",
            "Data columns (total 7 columns):\n",
            " #   Column     Non-Null Count  Dtype         \n",
            "---  ------     --------------  -----         \n",
            " 0   Date       2643 non-null   datetime64[ns]\n",
            " 1   Open       2643 non-null   float64       \n",
            " 2   High       2643 non-null   float64       \n",
            " 3   Low        2643 non-null   float64       \n",
            " 4   Close      2643 non-null   float64       \n",
            " 5   Adj Close  2643 non-null   float64       \n",
            " 6   Volume     2643 non-null   int64         \n",
            "dtypes: datetime64[ns](1), float64(5), int64(1)\n",
            "memory usage: 144.7 KB\n"
          ],
          "name": "stdout"
        }
      ]
    },
    {
      "cell_type": "markdown",
      "metadata": {
        "id": "9dTgTNL3_zij",
        "colab_type": "text"
      },
      "source": [
        "##Analisando os dados das ações da Tupperware\n"
      ]
    },
    {
      "cell_type": "markdown",
      "metadata": {
        "id": "ftHDFS1VL6pM",
        "colab_type": "text"
      },
      "source": [
        "Apare seguir com as análises, vou criar um novo dataframe, somente com as colunas Date, Open e Close.\n",
        "Vou utilizar essas informações para calcular a variação % das ações em cada dia.\n",
        "\n",
        "No *DataFrame* `df_clean` teremos a seguinte informação:\n",
        "\n",
        "\n",
        "*   **Date**: data da negocição das ações\n",
        "*   **Open**: valor das ações na abertura do mercado\n",
        "*   **Close**: valor das ações no fechamento do mercado\n",
        "*   **Variation %**: percentual de variação da ação no dia\n",
        "\n"
      ]
    },
    {
      "cell_type": "code",
      "metadata": {
        "id": "wMdT4lsT_zCk",
        "colab_type": "code",
        "colab": {}
      },
      "source": [
        "#criando o dataframe df_clean somente com as colunas que vou utilizar\n",
        "df_clean = pd.DataFrame(df, columns=['Date','Open','Close'])\n",
        "df_clean2 = pd.DataFrame(df, columns=['Date','Open','Close'])\n",
        "#incluindo uma coluna chamada Variation % que será calculada usando a variação do valor de abertura e fechamento da ação\n",
        "df_clean['Variation %'] = ((df_clean['Close']-df_clean['Open'])/df_clean['Open'])*100\n",
        "df_clean2['Variation %'] = ((df_clean2['Close']-df_clean2['Open'])/df_clean2['Open'])*100\n",
        "#colocando a data como índice do dataframe\n",
        "df_clean.set_index('Date', inplace=True)"
      ],
      "execution_count": 61,
      "outputs": []
    },
    {
      "cell_type": "code",
      "metadata": {
        "id": "u1f6XzI9J2AC",
        "colab_type": "code",
        "colab": {
          "base_uri": "https://localhost:8080/",
          "height": 450
        },
        "outputId": "6ffb92e9-3ad1-45a2-9b32-aac4354da7df"
      },
      "source": [
        "df_clean"
      ],
      "execution_count": 35,
      "outputs": [
        {
          "output_type": "execute_result",
          "data": {
            "text/html": [
              "<div>\n",
              "<style scoped>\n",
              "    .dataframe tbody tr th:only-of-type {\n",
              "        vertical-align: middle;\n",
              "    }\n",
              "\n",
              "    .dataframe tbody tr th {\n",
              "        vertical-align: top;\n",
              "    }\n",
              "\n",
              "    .dataframe thead th {\n",
              "        text-align: right;\n",
              "    }\n",
              "</style>\n",
              "<table border=\"1\" class=\"dataframe\">\n",
              "  <thead>\n",
              "    <tr style=\"text-align: right;\">\n",
              "      <th></th>\n",
              "      <th>Open</th>\n",
              "      <th>Close</th>\n",
              "      <th>Variation %</th>\n",
              "    </tr>\n",
              "    <tr>\n",
              "      <th>Date</th>\n",
              "      <th></th>\n",
              "      <th></th>\n",
              "      <th></th>\n",
              "    </tr>\n",
              "  </thead>\n",
              "  <tbody>\n",
              "    <tr>\n",
              "      <th>2010-01-04</th>\n",
              "      <td>47.209999</td>\n",
              "      <td>47.950001</td>\n",
              "      <td>1.567469</td>\n",
              "    </tr>\n",
              "    <tr>\n",
              "      <th>2010-01-05</th>\n",
              "      <td>48.259998</td>\n",
              "      <td>48.290001</td>\n",
              "      <td>0.062170</td>\n",
              "    </tr>\n",
              "    <tr>\n",
              "      <th>2010-01-06</th>\n",
              "      <td>48.369999</td>\n",
              "      <td>48.660000</td>\n",
              "      <td>0.599547</td>\n",
              "    </tr>\n",
              "    <tr>\n",
              "      <th>2010-01-07</th>\n",
              "      <td>48.439999</td>\n",
              "      <td>48.189999</td>\n",
              "      <td>-0.516102</td>\n",
              "    </tr>\n",
              "    <tr>\n",
              "      <th>2010-01-08</th>\n",
              "      <td>48.150002</td>\n",
              "      <td>47.799999</td>\n",
              "      <td>-0.726901</td>\n",
              "    </tr>\n",
              "    <tr>\n",
              "      <th>...</th>\n",
              "      <td>...</td>\n",
              "      <td>...</td>\n",
              "      <td>...</td>\n",
              "    </tr>\n",
              "    <tr>\n",
              "      <th>2020-06-26</th>\n",
              "      <td>4.410000</td>\n",
              "      <td>4.290000</td>\n",
              "      <td>-2.721088</td>\n",
              "    </tr>\n",
              "    <tr>\n",
              "      <th>2020-06-29</th>\n",
              "      <td>4.160000</td>\n",
              "      <td>4.700000</td>\n",
              "      <td>12.980769</td>\n",
              "    </tr>\n",
              "    <tr>\n",
              "      <th>2020-06-30</th>\n",
              "      <td>4.710000</td>\n",
              "      <td>4.750000</td>\n",
              "      <td>0.849257</td>\n",
              "    </tr>\n",
              "    <tr>\n",
              "      <th>2020-07-01</th>\n",
              "      <td>4.760000</td>\n",
              "      <td>5.580000</td>\n",
              "      <td>17.226891</td>\n",
              "    </tr>\n",
              "    <tr>\n",
              "      <th>2020-07-02</th>\n",
              "      <td>5.790000</td>\n",
              "      <td>5.590000</td>\n",
              "      <td>-3.454231</td>\n",
              "    </tr>\n",
              "  </tbody>\n",
              "</table>\n",
              "<p>2643 rows × 3 columns</p>\n",
              "</div>"
            ],
            "text/plain": [
              "                 Open      Close  Variation %\n",
              "Date                                         \n",
              "2010-01-04  47.209999  47.950001     1.567469\n",
              "2010-01-05  48.259998  48.290001     0.062170\n",
              "2010-01-06  48.369999  48.660000     0.599547\n",
              "2010-01-07  48.439999  48.189999    -0.516102\n",
              "2010-01-08  48.150002  47.799999    -0.726901\n",
              "...               ...        ...          ...\n",
              "2020-06-26   4.410000   4.290000    -2.721088\n",
              "2020-06-29   4.160000   4.700000    12.980769\n",
              "2020-06-30   4.710000   4.750000     0.849257\n",
              "2020-07-01   4.760000   5.580000    17.226891\n",
              "2020-07-02   5.790000   5.590000    -3.454231\n",
              "\n",
              "[2643 rows x 3 columns]"
            ]
          },
          "metadata": {
            "tags": []
          },
          "execution_count": 35
        }
      ]
    },
    {
      "cell_type": "code",
      "metadata": {
        "id": "t4u8VnGZRA_D",
        "colab_type": "code",
        "colab": {
          "base_uri": "https://localhost:8080/",
          "height": 297
        },
        "outputId": "e96d1346-a27c-4a1a-bfa1-c8e02a629b20"
      },
      "source": [
        "#Resumo estatístico\n",
        "df_clean.describe()"
      ],
      "execution_count": 36,
      "outputs": [
        {
          "output_type": "execute_result",
          "data": {
            "text/html": [
              "<div>\n",
              "<style scoped>\n",
              "    .dataframe tbody tr th:only-of-type {\n",
              "        vertical-align: middle;\n",
              "    }\n",
              "\n",
              "    .dataframe tbody tr th {\n",
              "        vertical-align: top;\n",
              "    }\n",
              "\n",
              "    .dataframe thead th {\n",
              "        text-align: right;\n",
              "    }\n",
              "</style>\n",
              "<table border=\"1\" class=\"dataframe\">\n",
              "  <thead>\n",
              "    <tr style=\"text-align: right;\">\n",
              "      <th></th>\n",
              "      <th>Open</th>\n",
              "      <th>Close</th>\n",
              "      <th>Variation %</th>\n",
              "    </tr>\n",
              "  </thead>\n",
              "  <tbody>\n",
              "    <tr>\n",
              "      <th>count</th>\n",
              "      <td>2643.000000</td>\n",
              "      <td>2643.000000</td>\n",
              "      <td>2643.000000</td>\n",
              "    </tr>\n",
              "    <tr>\n",
              "      <th>mean</th>\n",
              "      <td>54.036557</td>\n",
              "      <td>54.031139</td>\n",
              "      <td>-0.022292</td>\n",
              "    </tr>\n",
              "    <tr>\n",
              "      <th>std</th>\n",
              "      <td>20.934043</td>\n",
              "      <td>20.942174</td>\n",
              "      <td>2.825428</td>\n",
              "    </tr>\n",
              "    <tr>\n",
              "      <th>min</th>\n",
              "      <td>1.310000</td>\n",
              "      <td>1.250000</td>\n",
              "      <td>-34.210526</td>\n",
              "    </tr>\n",
              "    <tr>\n",
              "      <th>25%</th>\n",
              "      <td>44.669998</td>\n",
              "      <td>44.405000</td>\n",
              "      <td>-0.893617</td>\n",
              "    </tr>\n",
              "    <tr>\n",
              "      <th>50%</th>\n",
              "      <td>57.349998</td>\n",
              "      <td>57.349998</td>\n",
              "      <td>0.032058</td>\n",
              "    </tr>\n",
              "    <tr>\n",
              "      <th>75%</th>\n",
              "      <td>65.754998</td>\n",
              "      <td>65.700001</td>\n",
              "      <td>0.877281</td>\n",
              "    </tr>\n",
              "    <tr>\n",
              "      <th>max</th>\n",
              "      <td>96.440002</td>\n",
              "      <td>96.000000</td>\n",
              "      <td>43.750000</td>\n",
              "    </tr>\n",
              "  </tbody>\n",
              "</table>\n",
              "</div>"
            ],
            "text/plain": [
              "              Open        Close  Variation %\n",
              "count  2643.000000  2643.000000  2643.000000\n",
              "mean     54.036557    54.031139    -0.022292\n",
              "std      20.934043    20.942174     2.825428\n",
              "min       1.310000     1.250000   -34.210526\n",
              "25%      44.669998    44.405000    -0.893617\n",
              "50%      57.349998    57.349998     0.032058\n",
              "75%      65.754998    65.700001     0.877281\n",
              "max      96.440002    96.000000    43.750000"
            ]
          },
          "metadata": {
            "tags": []
          },
          "execution_count": 36
        }
      ]
    },
    {
      "cell_type": "code",
      "metadata": {
        "id": "ROqsNlZYQEtN",
        "colab_type": "code",
        "colab": {
          "base_uri": "https://localhost:8080/",
          "height": 85
        },
        "outputId": "48793d18-385a-40e6-ade2-79b8f36d448e"
      },
      "source": [
        "print(f'Maior valor da ação desde 2010: U${df_clean[\"Open\"].max():.2f}')\n",
        "print(f'Maior variação: {df_clean[\"Variation %\"].max():.2f}%')\n",
        "print(f'Menor valor da ação desde 2010: U${df_clean[\"Close\"].min()}')\n",
        "print(f'Maior variação Negativa: {df_clean[\"Variation %\"].min():.2f}%')"
      ],
      "execution_count": 37,
      "outputs": [
        {
          "output_type": "stream",
          "text": [
            "Maior valor da ação desde 2010: U$96.44\n",
            "Maior variação: 43.75%\n",
            "Menor valor da ação desde 2010: U$1.25\n",
            "Maior variação Negativa: -34.21%\n"
          ],
          "name": "stdout"
        }
      ]
    },
    {
      "cell_type": "code",
      "metadata": {
        "id": "SWeXIAfX_4Sl",
        "colab_type": "code",
        "colab": {
          "base_uri": "https://localhost:8080/",
          "height": 289
        },
        "outputId": "c42fd065-a5e2-40df-c145-525c75569a85"
      },
      "source": [
        "print('Gráfrico do valor de fechamento das ações Tupperware nos últimos 10 anos')\n",
        "df_clean[\"Close\"].plot();"
      ],
      "execution_count": 39,
      "outputs": [
        {
          "output_type": "stream",
          "text": [
            "Gráfrico do valor de fechamento das ações Tupperware nos últimos 10 anos\n"
          ],
          "name": "stdout"
        },
        {
          "output_type": "display_data",
          "data": {
            "image/png": "[encoded data removed]",
            "text/plain": [
              "<Figure size 432x288 with 1 Axes>"
            ]
          },
          "metadata": {
            "tags": [],
            "needs_background": "light"
          }
        }
      ]
    },
    {
      "cell_type": "code",
      "metadata": {
        "id": "bFkmXvvLRoef",
        "colab_type": "code",
        "colab": {
          "base_uri": "https://localhost:8080/",
          "height": 337
        },
        "outputId": "c53ecda4-a6e6-471a-c2d9-8a90299eaf4b"
      },
      "source": [
        "print('Histograma do % de variação das ações da Tupperware nos últimos 10 anos')\n",
        "df_clean['Variation %'].hist(bins=150, figsize=(10,5), color='Blue', grid=False);"
      ],
      "execution_count": 48,
      "outputs": [
        {
          "output_type": "stream",
          "text": [
            "Histograma do % de variação das ações da Tupperware nos últimos 10 anos\n"
          ],
          "name": "stdout"
        },
        {
          "output_type": "display_data",
          "data": {
            "image/png": "[encoded data removed]",
            "text/plain": [
              "<Figure size 720x360 with 1 Axes>"
            ]
          },
          "metadata": {
            "tags": [],
            "needs_background": "light"
          }
        }
      ]
    },
    {
      "cell_type": "code",
      "metadata": {
        "id": "HzOTjYg6KXzk",
        "colab_type": "code",
        "colab": {
          "base_uri": "https://localhost:8080/",
          "height": 335
        },
        "outputId": "ac73f2fe-5e69-4fc4-84f2-77ecffe42c87"
      },
      "source": [
        "print('Gráfico do % de variação das ações da Tupperware nos últimos 10 anos')\n",
        "df_clean['Variation %'].plot(figsize=(10,5));"
      ],
      "execution_count": 57,
      "outputs": [
        {
          "output_type": "stream",
          "text": [
            "Gráfico do % de variação das ações da Tupperware nos últimos 10 anos\n"
          ],
          "name": "stdout"
        },
        {
          "output_type": "display_data",
          "data": {
            "image/png": "[encoded data removed]",
            "text/plain": [
              "<Figure size 720x360 with 1 Axes>"
            ]
          },
          "metadata": {
            "tags": [],
            "needs_background": "light"
          }
        }
      ]
    },
    {
      "cell_type": "code",
      "metadata": {
        "id": "M1Nqagp-8D2L",
        "colab_type": "code",
        "colab": {
          "base_uri": "https://localhost:8080/",
          "height": 320
        },
        "outputId": "ec2e69ca-8d7e-43f4-ce0b-a0a77ed9719a"
      },
      "source": [
        "#BoxPlot\n",
        "df_clean.plot(kind='box', vert=False, figsize=(15,5));"
      ],
      "execution_count": 50,
      "outputs": [
        {
          "output_type": "display_data",
          "data": {
            "image/png": "[encoded data removed]",
            "text/plain": [
              "<Figure size 1080x360 with 1 Axes>"
            ]
          },
          "metadata": {
            "tags": [],
            "needs_background": "light"
          }
        }
      ]
    },
    {
      "cell_type": "code",
      "metadata": {
        "id": "NUh0lqFQo3F8",
        "colab_type": "code",
        "colab": {
          "base_uri": "https://localhost:8080/",
          "height": 421
        },
        "outputId": "189fb9cf-ff4b-400d-bc8a-c37d6abd4851"
      },
      "source": [
        "#Media dos valores diários da ação em cada ano\n",
        "df_clean2.groupby(df_clean2[\"Date\"].dt.year).mean()"
      ],
      "execution_count": 62,
      "outputs": [
        {
          "output_type": "execute_result",
          "data": {
            "text/html": [
              "<div>\n",
              "<style scoped>\n",
              "    .dataframe tbody tr th:only-of-type {\n",
              "        vertical-align: middle;\n",
              "    }\n",
              "\n",
              "    .dataframe tbody tr th {\n",
              "        vertical-align: top;\n",
              "    }\n",
              "\n",
              "    .dataframe thead th {\n",
              "        text-align: right;\n",
              "    }\n",
              "</style>\n",
              "<table border=\"1\" class=\"dataframe\">\n",
              "  <thead>\n",
              "    <tr style=\"text-align: right;\">\n",
              "      <th></th>\n",
              "      <th>Open</th>\n",
              "      <th>Close</th>\n",
              "      <th>Variation %</th>\n",
              "    </tr>\n",
              "    <tr>\n",
              "      <th>Date</th>\n",
              "      <th></th>\n",
              "      <th></th>\n",
              "      <th></th>\n",
              "    </tr>\n",
              "  </thead>\n",
              "  <tbody>\n",
              "    <tr>\n",
              "      <th>2010</th>\n",
              "      <td>44.907619</td>\n",
              "      <td>44.908492</td>\n",
              "      <td>0.021008</td>\n",
              "    </tr>\n",
              "    <tr>\n",
              "      <th>2011</th>\n",
              "      <td>58.704841</td>\n",
              "      <td>58.723770</td>\n",
              "      <td>0.047093</td>\n",
              "    </tr>\n",
              "    <tr>\n",
              "      <th>2012</th>\n",
              "      <td>58.391480</td>\n",
              "      <td>58.412600</td>\n",
              "      <td>0.039977</td>\n",
              "    </tr>\n",
              "    <tr>\n",
              "      <th>2013</th>\n",
              "      <td>82.434127</td>\n",
              "      <td>82.499484</td>\n",
              "      <td>0.091609</td>\n",
              "    </tr>\n",
              "    <tr>\n",
              "      <th>2014</th>\n",
              "      <td>76.925079</td>\n",
              "      <td>76.825714</td>\n",
              "      <td>-0.113912</td>\n",
              "    </tr>\n",
              "    <tr>\n",
              "      <th>2015</th>\n",
              "      <td>61.656865</td>\n",
              "      <td>61.643254</td>\n",
              "      <td>-0.019448</td>\n",
              "    </tr>\n",
              "    <tr>\n",
              "      <th>2016</th>\n",
              "      <td>57.535079</td>\n",
              "      <td>57.606984</td>\n",
              "      <td>0.144352</td>\n",
              "    </tr>\n",
              "    <tr>\n",
              "      <th>2017</th>\n",
              "      <td>62.935857</td>\n",
              "      <td>62.949442</td>\n",
              "      <td>0.032845</td>\n",
              "    </tr>\n",
              "    <tr>\n",
              "      <th>2018</th>\n",
              "      <td>42.271474</td>\n",
              "      <td>42.171673</td>\n",
              "      <td>-0.203409</td>\n",
              "    </tr>\n",
              "    <tr>\n",
              "      <th>2019</th>\n",
              "      <td>19.717817</td>\n",
              "      <td>19.694405</td>\n",
              "      <td>-0.143610</td>\n",
              "    </tr>\n",
              "    <tr>\n",
              "      <th>2020</th>\n",
              "      <td>4.248740</td>\n",
              "      <td>4.223780</td>\n",
              "      <td>-0.259281</td>\n",
              "    </tr>\n",
              "  </tbody>\n",
              "</table>\n",
              "</div>"
            ],
            "text/plain": [
              "           Open      Close  Variation %\n",
              "Date                                   \n",
              "2010  44.907619  44.908492     0.021008\n",
              "2011  58.704841  58.723770     0.047093\n",
              "2012  58.391480  58.412600     0.039977\n",
              "2013  82.434127  82.499484     0.091609\n",
              "2014  76.925079  76.825714    -0.113912\n",
              "2015  61.656865  61.643254    -0.019448\n",
              "2016  57.535079  57.606984     0.144352\n",
              "2017  62.935857  62.949442     0.032845\n",
              "2018  42.271474  42.171673    -0.203409\n",
              "2019  19.717817  19.694405    -0.143610\n",
              "2020   4.248740   4.223780    -0.259281"
            ]
          },
          "metadata": {
            "tags": []
          },
          "execution_count": 62
        }
      ]
    },
    {
      "cell_type": "code",
      "metadata": {
        "id": "V0pVqlaVs-h0",
        "colab_type": "code",
        "colab": {
          "base_uri": "https://localhost:8080/",
          "height": 119
        },
        "outputId": "b5d18862-35ba-444e-d776-385105ddb28b"
      },
      "source": [
        "print('Data da MAIOR cotação da ação da Tupperware')\n",
        "df_clean2.loc[df_clean2[\"Open\"].idxmax()]"
      ],
      "execution_count": 64,
      "outputs": [
        {
          "output_type": "stream",
          "text": [
            "Data da MAIOR cotação da ação da Tupperware\n"
          ],
          "name": "stdout"
        },
        {
          "output_type": "execute_result",
          "data": {
            "text/plain": [
              "Date           2013-12-26 00:00:00\n",
              "Open                         96.44\n",
              "Close                        95.54\n",
              "Variation %              -0.933224\n",
              "Name: 1002, dtype: object"
            ]
          },
          "metadata": {
            "tags": []
          },
          "execution_count": 64
        }
      ]
    },
    {
      "cell_type": "code",
      "metadata": {
        "id": "Us_7v3MNvLHU",
        "colab_type": "code",
        "colab": {
          "base_uri": "https://localhost:8080/",
          "height": 119
        },
        "outputId": "c3d20785-4e18-44c3-a57b-95176484e1f9"
      },
      "source": [
        "print('Data da MENOR cotação da ação da Tupperware')\n",
        "df_clean2.loc[df_clean2[\"Close\"].idxmin()]"
      ],
      "execution_count": 70,
      "outputs": [
        {
          "output_type": "stream",
          "text": [
            "Data da MENOR cotação da ação da Tupperware\n"
          ],
          "name": "stdout"
        },
        {
          "output_type": "execute_result",
          "data": {
            "text/plain": [
              "Date           2020-03-16 00:00:00\n",
              "Open                           1.9\n",
              "Close                         1.25\n",
              "Variation %               -34.2105\n",
              "Name: 2566, dtype: object"
            ]
          },
          "metadata": {
            "tags": []
          },
          "execution_count": 70
        }
      ]
    },
    {
      "cell_type": "code",
      "metadata": {
        "id": "2VE1Ui_KyHL9",
        "colab_type": "code",
        "colab": {
          "base_uri": "https://localhost:8080/",
          "height": 34
        },
        "outputId": "5c030f22-7034-42a2-d153-a0dfa59e955b"
      },
      "source": [
        "varia = ((df_clean['Open'].max()-df_clean['Close'].min())/df_clean['Open'].max())*100\n",
        "print (f'Perda de {varia:.2f}% do valor da ação, considerando o maior e o menor valor.')"
      ],
      "execution_count": 54,
      "outputs": [
        {
          "output_type": "stream",
          "text": [
            "Perda de 98.70% do valor da ação, considerando o maior e o menor valor.\n"
          ],
          "name": "stdout"
        }
      ]
    },
    {
      "cell_type": "code",
      "metadata": {
        "id": "KKlnqoMvzrVr",
        "colab_type": "code",
        "colab": {
          "base_uri": "https://localhost:8080/",
          "height": 51
        },
        "outputId": "3b093be4-5555-4a13-8316-b4a9c138f94b"
      },
      "source": [
        "print(f'Primeiro valor da ação em 2010: U${df_clean.iloc[0,0]:.2f}')\n",
        "print(f'Valor atual da ação: U${df_clean.iloc[-1,1]}')"
      ],
      "execution_count": 78,
      "outputs": [
        {
          "output_type": "stream",
          "text": [
            "Primeiro valor da ação em 2010: U$47.21\n",
            "Valor atual da ação: U$5.59\n"
          ],
          "name": "stdout"
        }
      ]
    },
    {
      "cell_type": "markdown",
      "metadata": {
        "id": "9hFvvBU_9Npz",
        "colab_type": "text"
      },
      "source": [
        "#Conclusão\n",
        "\n",
        "Baseado na análise dos últimos 10 anos, foi possível identificar que o valor das ações da empresa Tupperware teve sua melhor cotação no ano de 2013 e sofreu pequena variação até 2017.\n",
        "\n",
        "De 2017 pra cá o valor das ações vem sofrendo queda acentuada, chegando na menor cotação dos últimos 10 ano, durante a pandemia em 2020."
      ]
    }
  ]
}